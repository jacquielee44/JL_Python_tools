{
 "cells": [
  {
   "cell_type": "code",
   "execution_count": 2,
   "metadata": {
    "collapsed": true
   },
   "outputs": [],
   "source": [
    "from __future__ import division, print_function\n",
    "\n",
    "import netCDF4 as nc\n",
    "import numpy as np\n",
    "import numpy.ma as ma\n",
    "from mpl_toolkits.basemap import Basemap\n",
    "import matplotlib.pyplot as plt\n",
    "import matplotlib.colors as colors\n",
    "import matplotlib as mpl\n",
    "import glob\n",
    "from geopy.distance import vincenty\n",
    "from exceptions import KeyError\n",
    "import gsw\n",
    "import scipy.stats as scstat\n",
    "%matplotlib inline"
   ]
  },
  {
   "cell_type": "code",
   "execution_count": 3,
   "metadata": {
    "collapsed": false
   },
   "outputs": [],
   "source": [
    "mesh = nc.Dataset('/mnt/storage0/jacquielee/research/data/Jasper/mesh_mask_anha4_201509.nc')"
   ]
  },
  {
   "cell_type": "code",
   "execution_count": 4,
   "metadata": {
    "collapsed": true
   },
   "outputs": [],
   "source": [
    "mask = mesh.variables['tmask'][0,:,:,:]"
   ]
  },
  {
   "cell_type": "code",
   "execution_count": 5,
   "metadata": {
    "collapsed": true
   },
   "outputs": [],
   "source": [
    "coordhgr = nc.Dataset('/mnt/storage0/xhu/ANHA4-I/ANHA4_mesh_hgr.nc')\n",
    "coordzgr = nc.Dataset('/mnt/storage0/xhu/ANHA4-I/ANHA4_mesh_zgr.nc')\n",
    "mesh = nc.Dataset('/mnt/storage0/xhu/ANHA4-I/mesh_mask_anha4_201509.nc')\n",
    "grid = nc.Dataset('/mnt/storage0/xhu/ANHA4-I/ANHA4_bathy_etopo1_gebco1_smoothed_coast_corrected_mar10.nc')"
   ]
  },
  {
   "cell_type": "code",
   "execution_count": 6,
   "metadata": {
    "collapsed": true
   },
   "outputs": [],
   "source": [
    "e1v = mesh.variables['e1v'][0,:,:]\n",
    "e3v = mesh.variables['e3v'][0,:,:,:]\n",
    "e2u = mesh.variables['e2u'][0,:,:]\n",
    "e3u = mesh.variables['e3u'][0,:,:,:]\n",
    "e1t= mesh.variables['e1t'][0,:,:]  # dx\n",
    "e2t= mesh.variables['e2t'][0,:,:]  # dy \n",
    "e3t= mesh.variables['e3t'][0,:,:,:]\n",
    "tmask= mesh.variables['tmask'][0,:,:,:]\n",
    "umask= mesh.variables['umask'][0,:,:,:]\n",
    "dep = mesh.variables['gdept_0'][0,:]"
   ]
  },
  {
   "cell_type": "code",
   "execution_count": 7,
   "metadata": {
    "collapsed": false
   },
   "outputs": [
    {
     "name": "stdout",
     "output_type": "stream",
     "text": [
      "True\n"
     ]
    }
   ],
   "source": [
    "if umask.all() == tmask.all():\n",
    "    print('True')"
   ]
  },
  {
   "cell_type": "code",
   "execution_count": 8,
   "metadata": {
    "collapsed": true
   },
   "outputs": [],
   "source": [
    "H = coordzgr.variables['nav_lev']\n",
    "bathy = grid.variables['Bathymetry'][:]\n",
    "lat = np.array(grid.variables['nav_lat'])\n",
    "lon = np.array(grid.variables['nav_lon'])\n",
    "bathy = ma.masked_values(bathy[:],0)"
   ]
  },
  {
   "cell_type": "code",
   "execution_count": 9,
   "metadata": {
    "collapsed": true
   },
   "outputs": [],
   "source": [
    "control = '/mnt/storage0/xhu/NEMO/ANHA4-EXH005/ANHA4-EXH005_'\n",
    "stlandj = '/mnt/storage0/jacquielee/research/data/ANHA4-VJT002/ANHA4-VJT002_'\n",
    "polzin  = '/mnt/storage0/jacquielee/research/data/ANHA4-VJT003/ANHA4-VJT003_'\n",
    "control_storage = '/mnt/storage0/jacquielee/research/data/ANHA4-EXH005/ANHA4-EXH005_'"
   ]
  },
  {
   "cell_type": "code",
   "execution_count": 10,
   "metadata": {
    "collapsed": true
   },
   "outputs": [],
   "source": [
    "year = '2011'\n",
    "month = '01'\n",
    "day = '05'"
   ]
  },
  {
   "cell_type": "code",
   "execution_count": 11,
   "metadata": {
    "collapsed": true
   },
   "outputs": [],
   "source": [
    "cgridW = nc.Dataset(control+'y'+year+'m'+month+'d'+day+'_gridW.nc')\n",
    "zlevels = cgridW.variables['depthw']\n",
    "nav_lon=cgridW.variables['nav_lon'][:]\n",
    "nav_lat=cgridW.variables['nav_lat'][:]"
   ]
  },
  {
   "cell_type": "code",
   "execution_count": 12,
   "metadata": {
    "collapsed": false
   },
   "outputs": [],
   "source": [
    "\n",
    "kappa = ma.array(nc.Dataset(control_storage+'2012-2016avg_votkeavt.nc').variables['votkeavtfour'][:,:,:],mask=(mask-1)*-1)\n",
    "kappa2 = ma.array(nc.Dataset(polzin+'2012-2016avg_votkeavt.nc').variables['votkeavtfour'][:,:,:],mask=(mask-1)*-1)\n",
    "kappa3 = ma.array(nc.Dataset(stlandj+'2012-2016avg_votkeavt.nc').variables['votkeavtfour'][:,:,:],mask=(mask-1)*-1)"
   ]
  },
  {
   "cell_type": "code",
   "execution_count": 13,
   "metadata": {
    "collapsed": false
   },
   "outputs": [],
   "source": [
    "tidal2 = ma.array(nc.Dataset(polzin+'2012-2016avg_votkeavtidal.nc').variables['votkeavtidalfour'][:,:,:],mask=(mask-1)*-1)\n",
    "tidal3 = ma.array(nc.Dataset(stlandj+'2012-2016avg_votkeavtidal.nc').variables['votkeavtidalfour'][:,:,:],mask=(mask-1)*-1)"
   ]
  },
  {
   "cell_type": "code",
   "execution_count": 14,
   "metadata": {
    "collapsed": true
   },
   "outputs": [],
   "source": [
    "ptidal_new = np.zeros_like(kappa)\n",
    "sjtidal_new = np.zeros_like(kappa)\n",
    "\n",
    "\n",
    "ptidal_new[49,:,:] = tidal2[49,:,:]\n",
    "sjtidal_new[49,:,:] = tidal3[49,:,:]\n",
    "#First interpolate onto t-grid\n",
    "ptidal_new[0:-1,:,:] = (tidal2[0:-1,:,:]+tidal2[1:,:,:])/2\n",
    "sjtidal_new[0:-1,:,:] = (tidal3[0:-1,:,:]+tidal3[1:,:,:])/2"
   ]
  },
  {
   "cell_type": "code",
   "execution_count": 15,
   "metadata": {
    "collapsed": false
   },
   "outputs": [],
   "source": [
    "ckappa_new = np.zeros_like(kappa)\n",
    "pkappa_new = np.zeros_like(kappa)\n",
    "sjkappa_new = np.zeros_like(kappa)\n",
    "\n",
    "ckappa_new[49,:,:] = kappa[49,:,:]\n",
    "pkappa_new[49,:,:] = kappa2[49,:,:]\n",
    "sjkappa_new[49,:,:] = kappa3[49,:,:]\n",
    "#First interpolate onto t-grid\n",
    "ckappa_new[0:-1,:,:] = (kappa[0:-1,:,:]+kappa[1:,:,:])/2\n",
    "pkappa_new[0:-1,:,:] = (kappa2[0:-1,:,:]+kappa2[1:,:,:])/2\n",
    "sjkappa_new[0:-1,:,:] = (kappa3[0:-1,:,:]+kappa3[1:,:,:])/2\n"
   ]
  },
  {
   "cell_type": "code",
   "execution_count": 16,
   "metadata": {
    "collapsed": false
   },
   "outputs": [],
   "source": [
    "volume = ma.array(e1t*e2t*e3t,mask=(mask[:,:,:]-1)*-1)"
   ]
  },
  {
   "cell_type": "code",
   "execution_count": 17,
   "metadata": {
    "collapsed": false
   },
   "outputs": [],
   "source": [
    "volumeArctic = ma.array((volume[:,400:,:] / np.sum(volume[:,400:,:]))*100,mask=(mask[:,400:,:]-1)*-1)\n",
    "volumeAtl = ma.array((volume[:,:400,:] / np.sum(volume[:,:400,:]))*100,mask=(mask[:,:400,:]-1)*-1)"
   ]
  },
  {
   "cell_type": "code",
   "execution_count": 18,
   "metadata": {
    "collapsed": false
   },
   "outputs": [],
   "source": [
    "#sum what proportion of the volume is less than 10**-14\n",
    "\n",
    "\n",
    "def threshold(variable, weight,thresh, greaterthan = None, lessthan = None, equals=None):\n",
    "    var = variable.flatten()\n",
    "    wei = weight.flatten()\n",
    "    \n",
    "    percent = 0.0\n",
    "    \n",
    "    if greaterthan != None:\n",
    "        for i in np.arange(0,len(var)-1):\n",
    "            if var[i] > thresh and ma.is_masked(var[i]) == False:\n",
    "                percent = percent+wei[i]\n",
    "    elif lessthan != None:\n",
    "        for i in np.arange(0,len(var)-1):\n",
    "            if var[i] < thresh and ma.is_masked(var[i]) == False:\n",
    "                percent = percent+wei[i]\n",
    "    elif equals != None:\n",
    "        for i in np.arange(0,len(var)-1):\n",
    "            if var[i] == thresh and ma.is_masked(var[i]) == False:\n",
    "                percent = percent+wei[i]\n",
    "                \n",
    "    print('complete')\n",
    "    return percent\n",
    "\n",
    "\n",
    "#zerop_per = threshold(pkappa_new[:,400:,:], volume2,0.0, equals=True)\n",
    "# greatp_102 = threshold(pkappa_new[:,400:,:], volume2,10**-2, greaterthan=True)\n",
    "# lessp_106 = threshold(pkappa_new[:,400:,:], volume2,10**-6, lessthan=True)\n",
    "# zerosj_per = threshold(sjkappa_new[:,400:,:], volume2,0.0, equals=True)\n",
    "# greatsj_102 = threshold(sjkappa_new[:,400:,:], volume2,10**-2, greaterthan=True)\n",
    "# lesssj_106 = threshold(sjkappa_new[:,400:,:], volume2,10**-6, lessthan=True)\n",
    "# zeroc_per = threshold(ckappa_new[:,400:,:], volume2,0.0, equals=True)\n",
    "# greatc_102 = threshold(ckappa_new[:,400:,:], volume2,10**-2, greaterthan=True)\n",
    "# lessc_106 = threshold(ckappa_new[:,400:,:], volume2,10**-6, lessthan=True)"
   ]
  },
  {
   "cell_type": "code",
   "execution_count": 19,
   "metadata": {
    "collapsed": false
   },
   "outputs": [],
   "source": [
    "# print(zerop_per, greatp_102, lessp_106)\n",
    "# print(zerosj_per, greatsj_102, lesssj_106)\n",
    "# sj = np.ma.masked_where(sjtidal_new[:,400:,:]==0.0, sjtidal_new[:,400:,:])\n",
    "# p = np.ma.masked_where(ptidal_new[:,400:,:]==0.0, ptidal_new[:,400:,:])\n",
    "# sj_mask = ma.getmask(p)\n",
    "\n",
    "# sj_zero_vol = ma.array(volume2[:,:,:], mask = (sj_mask-1)*-1)\n",
    "# print(np.sum(sj_zero_vol))"
   ]
  },
  {
   "cell_type": "markdown",
   "metadata": {},
   "source": [
    "This cell below looks at proportion of the domain for particular values."
   ]
  },
  {
   "cell_type": "code",
   "execution_count": 20,
   "metadata": {
    "collapsed": false
   },
   "outputs": [],
   "source": [
    "# ckappa_mask = np.ma.masked_where(ckappa_new[:,:,:]>=10**-2, ckappa_new[:,:,:])\n",
    "# k_mask = ma.getmask(ckappa_mask[:,400:,:])\n",
    "# k_volume = ma.array(volume[:,:,:], mask = (k_mask-1)*-1)\n",
    "# ck_prop = ma.array((k_volume / np.sum(k_volume))*100)\n",
    "\n",
    "# pkappa_mask = np.ma.masked_where(pkappa_new[:,:,:]>=10**-2, pkappa_new[:,:,:])\n",
    "# k_mask = ma.getmask(pkappa_mask[:,400:,:])\n",
    "# k_volume = ma.array(volume[:,:,:], mask = (k_mask-1)*-1)\n",
    "# pk_prop = ma.array((k_volume / np.sum(k_volume))*100)\n",
    "\n",
    "# sjkappa_mask = np.ma.masked_where(sjkappa_new[:,:,:]>=10**-2, sjkappa_new[:,:,:])\n",
    "# k_mask = ma.getmask(sjkappa_mask[:,400:,:])\n",
    "# k_volume = ma.array(volume[:,:,:], mask = (k_mask-1)*-1)\n",
    "# sjk_prop = ma.array((k_volume / np.sum(k_volume))*100)\n"
   ]
  },
  {
   "cell_type": "code",
   "execution_count": 21,
   "metadata": {
    "collapsed": true
   },
   "outputs": [],
   "source": [
    "def plot_histo(datalist, bins, dataweight, labeling, colors,legendlabels):\n",
    "    \n",
    "    '''\n",
    "    Function to plot numerous histograms over eachother on the same plot\n",
    "    datalist, dataweight, labeling, colors and legendlabels are arrays that contain \n",
    "    plotting infor for each histogram wanting to be plotted\n",
    "    datalist - array with an array of data for each histo\n",
    "    dataweight - array with array of weights for each data point in each histo\n",
    "    labeling - array of strings for each histo\n",
    "    colors - array of strings depicting the color of each histo\n",
    "    legendlabels - array of strings for the legend\n",
    "    '''\n",
    "    for data, weight, label, color in zip(datalist, dataweight, labeling, colors):\n",
    "        plt.hist(data.flatten(), bins=bins,histtype='step', weights=weight.flatten(),\n",
    "                 label=label,color=color,alpha=0.5)\n",
    "        \n",
    "    plt.gca().set_xscale('log')\n",
    "    plt.legend(legendlabels,bbox_to_anchor=(1.05, 1), loc=2, borderaxespad=0.,fontsize=14)\n",
    "    \n",
    "    plt.ylabel('% Volume',fontsize=16)\n",
    "    plt.xlabel('$k_v$',fontsize=16)\n",
    "    plt.tick_params(axis='both',which='major',labelsize=14)\n",
    "    plt.show()\n",
    "    \n",
    "    return None"
   ]
  },
  {
   "cell_type": "code",
   "execution_count": 22,
   "metadata": {
    "collapsed": false,
    "scrolled": true
   },
   "outputs": [
    {
     "data": {
      "image/png": "[encoded data removed]",
      "text/plain": [
       "<matplotlib.figure.Figure at 0x7f57b4576fd0>"
      ]
     },
     "metadata": {},
     "output_type": "display_data"
    }
   ],
   "source": [
    "datalist = [sjtidal_new[:,400:,:], ptidal_new[:,400:,:],sjtidal_new[:,:400,:],\n",
    "            ptidal_new[:,:400,:]]\n",
    "binning = np.logspace(-14,-2,60)\n",
    "dataweight = [volumeArctic,volumeArctic,volumeAtl,volumeAtl]\n",
    "labeling = ['jslarctic','polzinarctic','jslatl','polzinatl']\n",
    "colors = ['blue','green','cyan','olive']\n",
    "legendlabels = ['JSL Arctic','Polzin Arctic','JSL N. Atlantic','Polzin N.Atlantic']\n",
    "plot_histo(datalist, binning, dataweight, labeling, colors,legendlabels)"
   ]
  },
  {
   "cell_type": "code",
   "execution_count": 23,
   "metadata": {
    "collapsed": false
   },
   "outputs": [],
   "source": [
    "# #kappa for the arctic region\n",
    "# #cgridW.variables\n",
    "# values,bins, _ = plt.hist(sjtidal_new[:,400:,:].flatten(),bins=np.logspace(-14, -2, 60),histtype='step',\n",
    "#          weights = volume2[:,:,:].flatten(),label='slj',color='blue')\n",
    "# values1, bins1, _ = plt.hist(ptidal_new[:,400:,:].flatten(),bins=np.logspace(-14, -2, 60),histtype='step',\n",
    "#          weights = volume2[:,:,:].flatten(),label='polzin',color='green')\n",
    "\n",
    "# plt.gca().set_xscale('log')\n",
    "# # plt.title('Histogram Kappa tidal 0-100m depth (0-23) 2011-01-05')\n",
    "# plt.legend([ 'Jayne and St Laurent', 'Polzin'],bbox_to_anchor=(1.05, 1), loc=2, borderaxespad=0.,fontsize=14)\n",
    "# #plt.legend(loc='best')\n",
    "# plt.ylabel('% Volume',fontsize=16)\n",
    "# plt.xlabel('$K_v$',fontsize=16)\n",
    "# plt.tick_params(axis='both',which='major',labelsize=14)\n",
    "# plt.show()"
   ]
  },
  {
   "cell_type": "code",
   "execution_count": 25,
   "metadata": {
    "collapsed": false
   },
   "outputs": [],
   "source": [
    "#np.sum(values)"
   ]
  },
  {
   "cell_type": "code",
   "execution_count": 26,
   "metadata": {
    "collapsed": false
   },
   "outputs": [],
   "source": [
    "# area = np.sum(((np.diff(bins)))*values)\n",
    "# print(area)\n",
    "# len_bins= len(bins)-1\n",
    "# total = sum(values[0:len_bins])/sum(values)\n",
    "# print(total)"
   ]
  },
  {
   "cell_type": "code",
   "execution_count": 31,
   "metadata": {
    "collapsed": false
   },
   "outputs": [
    {
     "data": {
      "image/png": "[encoded data removed]",
      "text/plain": [
       "<matplotlib.figure.Figure at 0x7f57716e52d0>"
      ]
     },
     "metadata": {},
     "output_type": "display_data"
    }
   ],
   "source": [
    "datalist = [sjkappa_new[:,400:,:], pkappa_new[:,400:,:],ckappa_new[:,400:,:,],\n",
    "           sjkappa_new[:,:400,:], pkappa_new[:,:400,:],ckappa_new[:,:400,:,]]\n",
    "binning = np.logspace(-6,-2,20)\n",
    "dataweight = [volumeArctic,volumeArctic,volumeArctic,volumeAtl, volumeAtl, volumeAtl]\n",
    "labeling = ['jslarctic','polzinarctic','controlArctic','jslatl',\n",
    "            'polzinatl','controlatl']\n",
    "colors = ['blue','green','red','cyan','olive','fuchsia']\n",
    "legendlabels = ['JSL Arctic','Polzin Arctic','Control Arctic',\n",
    "                'JSL N. Atlantic','Polzin N. Atlantic','Control N. Atlantic']\n",
    "plot_histo(datalist, binning, dataweight, labeling, colors,legendlabels)"
   ]
  },
  {
   "cell_type": "code",
   "execution_count": 41,
   "metadata": {
    "collapsed": false
   },
   "outputs": [],
   "source": [
    "# # plt.hist([pkappa_new.flatten(),ckappa_new.flatten()],histtype='step',log=True,bins=np.logspace(-6, -2, 40),\n",
    "# #          alpha=0.5,weights = [volume.flatten(),volume.flatten()],label='control')\n",
    "# n = plt.hist(sjkappa_new[:,400:,:].flatten(),bins=np.logspace(-6, -2, 20),stacked=True,histtype='step',alpha=0.5,\n",
    "#          label='slj',weights = volume2.flatten(),color='blue')\n",
    "# values, bins, _ = plt.hist(pkappa_new[:,400:,:].flatten(),alpha=0.5,bins=np.logspace(-6, -2, 20),histtype='step',\n",
    "#          label='polzin',weights = volume2.flatten(),color='green')\n",
    "# values1, bins1,_ = plt.hist(ckappa_new[:,400:,:].flatten(),alpha=0.5,bins=np.logspace(-6, -2, 20),histtype='step',\n",
    "#          label='control',weights = volume2.flatten(),color='red')\n",
    "# plt.gca().set_xscale(\"log\")\n",
    "# # To plot correct percentages in the y axis     \n",
    "# # to_percentage = lambda y, pos: str(round( ( y / float(len(data)) ) * 100.0, 2)) + '%'\n",
    "# # plt.gca().yaxis.set_major_formatter(FuncFormatter(to_percentage))\n",
    "# # plt.title('Histogram Kappa 2011-01-05')\n",
    "# plt.legend([ 'Jayne and St Laurent', 'Polzin','Control'],bbox_to_anchor=(1.05, 1), loc=2, borderaxespad=0.,fontsize=14)\n",
    "# plt.ylabel('% Volume',fontsize=16)\n",
    "# plt.xlabel('$K_v$',fontsize=16)\n",
    "# plt.tick_params(axis='both',which='major',labelsize=14)\n",
    "# plt.show()"
   ]
  },
  {
   "cell_type": "code",
   "execution_count": 47,
   "metadata": {
    "collapsed": false
   },
   "outputs": [
    {
     "name": "stdout",
     "output_type": "stream",
     "text": [
      "Median Values. Control: 1.39666702823e-05 SLJ: 0.000158832174766 Polzin: 2.92916649557e-05\n"
     ]
    }
   ],
   "source": [
    "lev = 40\n",
    "lati = 400\n",
    "\n",
    "print('Median Values. Control:',np.ma.median(ckappa_mask[lev:,:lati,:]),'SLJ:',np.ma.median(sjkappa_mask[lev:,:lati,:]),\n",
    "      'Polzin:',np.ma.median(pkappa_mask[lev:,:lati,:]))"
   ]
  },
  {
   "cell_type": "code",
   "execution_count": 48,
   "metadata": {
    "collapsed": false
   },
   "outputs": [
    {
     "name": "stdout",
     "output_type": "stream",
     "text": [
      "Geometric Mean Values. Control: 1.67854715415e-05 SLJ: 0.000217384798016 Polzin: 5.0082431185e-05\n"
     ]
    }
   ],
   "source": [
    "print('Geometric Mean Values. Control:',scstat.gmean(ckappa_mask[lev:,:lati,:],axis=None),'SLJ:',scstat.gmean(sjkappa_mask[lev:,:lati,:],axis=None),\n",
    "      'Polzin:',scstat.gmean(pkappa_mask[lev:,:lati,:],axis=None))"
   ]
  },
  {
   "cell_type": "code",
   "execution_count": 49,
   "metadata": {
    "collapsed": false
   },
   "outputs": [
    {
     "name": "stdout",
     "output_type": "stream",
     "text": [
      "Average Values. Control: 5.51480987593e-05 SLJ: 0.00137363413863 Polzin: 0.000329579353202\n"
     ]
    }
   ],
   "source": [
    "print('Average Values. Control:',np.mean(ckappa_mask[lev:,:lati,:]),'SLJ:',np.mean(sjkappa_mask[lev:,:lati,:]),\n",
    "      'Polzin:',np.mean(pkappa_mask[lev:,:lati,:]))"
   ]
  },
  {
   "cell_type": "code",
   "execution_count": 39,
   "metadata": {
    "collapsed": false
   },
   "outputs": [
    {
     "name": "stdout",
     "output_type": "stream",
     "text": [
      "Standard Deviation. Control: 0.000954684231241 SLJ: 0.00145936981686 Polzin: 0.00109801665418\n"
     ]
    }
   ],
   "source": [
    "print('Standard Deviation. Control:',np.std(ckappa_mask[lev:,:lati,:]),'SLJ:',np.std(sjkappa_mask[lev:,:lati,:]),\n",
    "      'Polzin:',np.std(pkappa_mask[lev:,:lati,:]))"
   ]
  },
  {
   "cell_type": "code",
   "execution_count": 29,
   "metadata": {
    "collapsed": false
   },
   "outputs": [
    {
     "name": "stdout",
     "output_type": "stream",
     "text": [
      "Median Values. SLJ: 2.85711808459e-05 Polzin: 7.65232820306e-07\n",
      "Average Values. SLJ: 0.00128965025671 Polzin: 0.000351297835253\n",
      "Standard Deviation. SLJ: 0.00203598116245 Polzin: 0.00123966353725\n"
     ]
    }
   ],
   "source": [
    "print('Median Values. SLJ:',np.ma.median(sjtidal_new),\n",
    "      'Polzin:',np.ma.median(ptidal_new))\n",
    "\n",
    "print('Average Values. SLJ:',np.mean(sjtidal_new),\n",
    "      'Polzin:',np.mean(ptidal_new))\n",
    "\n",
    "print('Standard Deviation. SLJ:',np.std(sjtidal_new),\n",
    "      'Polzin:',np.std(ptidal_new))"
   ]
  },
  {
   "cell_type": "code",
   "execution_count": null,
   "metadata": {
    "collapsed": true
   },
   "outputs": [],
   "source": []
  },
  {
   "cell_type": "code",
   "execution_count": 42,
   "metadata": {
    "collapsed": false
   },
   "outputs": [],
   "source": [
    "# a = np.array((0.0,1.0,1.0,1.0,0.0,10))\n",
    "# b = np.array((0.25,0.25,0.25,0.25,0.0,0.0))\n",
    "# test_mask= np.array((0,0,0,0,1,1))\n",
    "# p = np.ma.masked_where(a[:]==0.0, a)\n",
    "# sj_mask = ma.getmask(p)\n",
    "\n",
    "# b_zero = ma.array(b, mask = test_mask)\n",
    "# print(b_zero)"
   ]
  },
  {
   "cell_type": "code",
   "execution_count": 43,
   "metadata": {
    "collapsed": false
   },
   "outputs": [],
   "source": [
    "# #linear case\n",
    "# a = np.array((1,2,3,4))\n",
    "# vol = np.array((0.25,0.25,0.25,0.25))\n",
    "# bin_edges = [0.3,1.3,2.44,3.7,5]\n",
    "# values, bins, _ = plt.hist(a,alpha=0.5,bins=bin_edges,histtype='step',\n",
    "#          label='polzin',weights=vol)\n",
    "# #lt.gca().set_xscale(\"log\")\n",
    "# plt.show()"
   ]
  },
  {
   "cell_type": "code",
   "execution_count": 44,
   "metadata": {
    "collapsed": false
   },
   "outputs": [],
   "source": [
    "# #log case\n",
    "# b = np.array((0.02,0.022,0.002,0.0022))\n",
    "# vol = np.array((0.25,0.25,0.25,0.25))\n",
    "# bin_edges2 = [0.0002,0.001,0.002,0.02,0.2]\n",
    "# values, bins, _ = plt.hist(b,alpha=0.5,bins=bin_edges2,histtype='step',\n",
    "#          label='polzin',weights=vol)\n",
    "# plt.gca().set_xscale(\"log\")\n",
    "# plt.show()"
   ]
  },
  {
   "cell_type": "code",
   "execution_count": 165,
   "metadata": {
    "collapsed": false
   },
   "outputs": [
    {
     "name": "stdout",
     "output_type": "stream",
     "text": [
      "[1.0 -- -- --]\n"
     ]
    }
   ],
   "source": []
  },
  {
   "cell_type": "code",
   "execution_count": 296,
   "metadata": {
    "collapsed": false
   },
   "outputs": [
    {
     "name": "stdout",
     "output_type": "stream",
     "text": [
      "1.175\n"
     ]
    }
   ],
   "source": [
    "# area = np.sum(((np.diff(bins)))*values)\n",
    "# print(area)"
   ]
  },
  {
   "cell_type": "code",
   "execution_count": 292,
   "metadata": {
    "collapsed": false
   },
   "outputs": [
    {
     "name": "stdout",
     "output_type": "stream",
     "text": [
      "[ 0.0002  0.001   0.002   0.02    0.2   ] [ 0.   0.   0.5  0.5]\n"
     ]
    }
   ],
   "source": [
    "# print(bins, values)"
   ]
  },
  {
   "cell_type": "code",
   "execution_count": 293,
   "metadata": {
    "collapsed": false
   },
   "outputs": [
    {
     "data": {
      "text/plain": [
       "array([ 0.0008,  0.001 ,  0.018 ,  0.18  ])"
      ]
     },
     "execution_count": 293,
     "metadata": {},
     "output_type": "execute_result"
    }
   ],
   "source": [
    "# np.diff(bins)"
   ]
  },
  {
   "cell_type": "code",
   "execution_count": null,
   "metadata": {
    "collapsed": true
   },
   "outputs": [],
   "source": []
  }
 ],
 "metadata": {
  "kernelspec": {
   "display_name": "Python 2",
   "language": "python",
   "name": "python2"
  },
  "language_info": {
   "codemirror_mode": {
    "name": "ipython",
    "version": 2
   },
   "file_extension": ".py",
   "mimetype": "text/x-python",
   "name": "python",
   "nbconvert_exporter": "python",
   "pygments_lexer": "ipython2",
   "version": "2.7.11"
  }
 },
 "nbformat": 4,
 "nbformat_minor": 0
}
