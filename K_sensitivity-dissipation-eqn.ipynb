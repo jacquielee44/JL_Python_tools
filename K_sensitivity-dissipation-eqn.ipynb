{
 "cells": [
  {
   "cell_type": "code",
   "execution_count": 1,
   "metadata": {
    "collapsed": true
   },
   "outputs": [],
   "source": [
    "from __future__ import division, print_function, with_statement\n",
    "import netCDF4 as nc\n",
    "import numpy as np\n",
    "from mpl_toolkits import basemap\n",
    "from mpl_toolkits.basemap import Basemap\n",
    "import scipy.interpolate\n",
    "import numpy.ma as ma\n",
    "import scipy.io as sio\n",
    "import matplotlib.pyplot as plt\n",
    "import matplotlib.colors as colors\n",
    "import matplotlib as mpl\n",
    "%matplotlib inline"
   ]
  },
  {
   "cell_type": "code",
   "execution_count": 2,
   "metadata": {
    "collapsed": false
   },
   "outputs": [
    {
     "name": "stdout",
     "output_type": "stream",
     "text": [
      "[ 0.9   0.78  0.59  0.59  0.5   0.49  0.41  0.41  0.35  0.36  0.32  0.33\n",
      "  0.3   0.3 ]\n"
     ]
    }
   ],
   "source": [
    "wave_name = ['15x','15y','20x','20y','25x','25y','30x','30y',\n",
    "             '35x','35y','40x','40y','45x','45y']\n",
    "wave_average = np.array([0.904663927344,0.778144479726,0.590884321825,\n",
    "                         0.585455667094,0.503952202042,0.493380169389,\n",
    "                         0.412971186439,0.413120350978,0.351011977077,\n",
    "                         0.363569761818,0.321602813796,0.329348412255,\n",
    "                         0.302020772384,0.301424114451])\n",
    "wave_average = np.around(wave_average, decimals=2)\n",
    "print(wave_average)"
   ]
  },
  {
   "cell_type": "code",
   "execution_count": 3,
   "metadata": {
    "collapsed": true
   },
   "outputs": [],
   "source": [
    "kappa = np.arange(0.1,4.0,0.01)\n",
    "\n",
    "q = 0.3\n",
    "E = 10 #Jayne and Laurent 2001\n",
    "rho = 1.025\n",
    "z_star = 1\n",
    "zp_star = 1/kappa\n",
    "N = 0.2\n",
    "N_avg = 2.5\n",
    "H = 3000"
   ]
  },
  {
   "cell_type": "code",
   "execution_count": 4,
   "metadata": {
    "collapsed": true
   },
   "outputs": [],
   "source": [
    "eps = (q*E/((rho)*(1+(z_star/zp_star))**2))*(N**2/N_avg**2)*(1/H + 1/zp_star)\n",
    "K = 0.2*eps/(N**2)"
   ]
  },
  {
   "cell_type": "code",
   "execution_count": 5,
   "metadata": {
    "collapsed": false
   },
   "outputs": [
    {
     "name": "stdout",
     "output_type": "stream",
     "text": [
      "[ 0.02335842  0.02306681  0.02187008  0.02187008  0.02082688  0.02068551\n",
      "  0.01933063  0.01933063  0.01800368  0.01824627  0.01721875  0.01749027\n",
      "  0.01664425  0.01664425]\n"
     ]
    }
   ],
   "source": [
    "index = np.zeros_like(wave_average)\n",
    "k_match = np.zeros_like(wave_average,dtype=float)\n",
    "for i in np.arange(0,len(wave_average)):\n",
    "    for j in np.arange(0,len(kappa)):\n",
    "#         print(kappa[j], wave_average[i])\n",
    "        if str(kappa[j]) == str(wave_average[i]):\n",
    "           # print('equal')\n",
    "            k_match[i] = K[j]\n",
    "            \n",
    "print(k_match)"
   ]
  },
  {
   "cell_type": "code",
   "execution_count": 6,
   "metadata": {
    "collapsed": false
   },
   "outputs": [
    {
     "data": {
      "image/png": "[encoded data removed]",
      "text/plain": [
       "<matplotlib.figure.Figure at 0x7f87590804a8>"
      ]
     },
     "metadata": {},
     "output_type": "display_data"
    }
   ],
   "source": [
    "plt.plot(kappa,K)\n",
    "plt.xlabel('wavenumber [rad/km]')\n",
    "plt.ylabel('Kd')\n",
    "plt.plot(wave_average,k_match, 'ro')\n",
    "plt.title('K with varying wavenumber')\n",
    "plt.show()"
   ]
  },
  {
   "cell_type": "code",
   "execution_count": null,
   "metadata": {
    "collapsed": true
   },
   "outputs": [],
   "source": []
  }
 ],
 "metadata": {
  "kernelspec": {
   "display_name": "Python 2",
   "language": "python",
   "name": "python2"
  },
  "language_info": {
   "codemirror_mode": {
    "name": "ipython",
    "version": 2
   },
   "file_extension": ".py",
   "mimetype": "text/x-python",
   "name": "python",
   "nbconvert_exporter": "python",
   "pygments_lexer": "ipython2",
   "version": "2.7.11"
  }
 },
 "nbformat": 4,
 "nbformat_minor": 0
}
