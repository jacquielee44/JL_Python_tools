{
 "cells": [
  {
   "cell_type": "code",
   "execution_count": 1,
   "metadata": {
    "collapsed": true
   },
   "outputs": [],
   "source": [
    "from __future__ import division, print_function\n",
    "\n",
    "import netCDF4 as nc\n",
    "import numpy as np\n",
    "import numpy.ma as ma\n",
    "from mpl_toolkits.basemap import Basemap\n",
    "import matplotlib.pyplot as plt\n",
    "import matplotlib.colors as colors\n",
    "import matplotlib as mpl\n",
    "import glob\n",
    "from geopy.distance import vincenty\n",
    "from exceptions import KeyError\n",
    "import gsw\n",
    "%matplotlib inline"
   ]
  },
  {
   "cell_type": "code",
   "execution_count": 2,
   "metadata": {
    "collapsed": true
   },
   "outputs": [],
   "source": [
    "mesh = nc.Dataset('/mnt/storage0/jacquielee/research/data/Jasper/mesh_mask_anha4_201509.nc')\n",
    "mask = mesh.variables['tmask'][0,:,:,:]\n",
    "coordhgr = nc.Dataset('/mnt/storage0/xhu/ANHA4-I/ANHA4_mesh_hgr.nc')\n",
    "coordzgr = nc.Dataset('/mnt/storage0/xhu/ANHA4-I/ANHA4_mesh_zgr.nc')\n",
    "mesh = nc.Dataset('/mnt/storage0/xhu/ANHA4-I/mesh_mask_anha4_201509.nc')\n",
    "grid = nc.Dataset('/mnt/storage0/xhu/ANHA4-I/ANHA4_bathy_etopo1_gebco1_smoothed_coast_corrected_mar10.nc')"
   ]
  },
  {
   "cell_type": "code",
   "execution_count": 3,
   "metadata": {
    "collapsed": true
   },
   "outputs": [],
   "source": [
    "e1v = mesh.variables['e1v'][0,:,:]\n",
    "e3v = mesh.variables['e3v'][0,:,:,:]\n",
    "e2u = mesh.variables['e2u'][0,:,:]\n",
    "e3u = mesh.variables['e3u'][0,:,:,:]\n",
    "e1t= mesh.variables['e1t'][0,400:,:]  # dx\n",
    "e2t= mesh.variables['e2t'][0,400:,:]  # dy \n",
    "e3t= mesh.variables['e3t'][0,:,400:,:]\n",
    "tmask= mesh.variables['tmask'][0,:,400:,:]\n",
    "dep = mesh.variables['gdept_0'][0,:]"
   ]
  },
  {
   "cell_type": "code",
   "execution_count": 4,
   "metadata": {
    "collapsed": true
   },
   "outputs": [],
   "source": [
    "H = coordzgr.variables['nav_lev']\n",
    "bathy = grid.variables['Bathymetry'][:]\n",
    "lat = np.array(grid.variables['nav_lat'])\n",
    "lon = np.array(grid.variables['nav_lon'])\n",
    "bathy = ma.masked_values(bathy[:],0)"
   ]
  },
  {
   "cell_type": "code",
   "execution_count": 5,
   "metadata": {
    "collapsed": true
   },
   "outputs": [],
   "source": [
    "#put in the coordinates for the individual areas of study\n",
    "#Kara and Barenst Sea Corners\n",
    "lats = lat\n",
    "lons = lon\n",
    "kbsc_lat = [lats[475,325],lats[675,325],lats[675,500],lats[475,500],lats[475,325]]\n",
    "kbsc_lon = [lons[475,325],lons[675,325],lons[675,500],lons[475,500],lons[475,325]]\n",
    "\n",
    "esls_lat = [lats[650,200],lats[799,200],lats[799,415],lats[650,415],lats[650,200]]\n",
    "esls_lon = [lons[650,200],lons[799,200],lons[799,415],lons[650,415],lons[650,200]]"
   ]
  },
  {
   "cell_type": "code",
   "execution_count": 6,
   "metadata": {
    "collapsed": true
   },
   "outputs": [],
   "source": [
    "def density_flux(temp, sal):\n",
    "    '''\n",
    "    Calculates potential density anomoly\n",
    "    '''\n",
    "\n",
    "    density = gsw.sigma0(sal,temp)\n",
    "    return density\n",
    "\n",
    "\n",
    "def annual_trans(rangex,rangey, lat, lon, year, month=None):\n",
    "    \n",
    "   \n",
    "    if month == None:\n",
    "        nc_fileU=sorted(glob.glob('/mnt/storage0/xhu/NEMO/ANHA4-EXH005/ANHA4-EXH005_y'+year+'m??d??_gridU.nc'))\n",
    "        nc_fileV=sorted(glob.glob('/mnt/storage0/xhu/NEMO/ANHA4-EXH005/ANHA4-EXH005_y'+year+'m??d??_gridV.nc'))\n",
    "        nc_fileT=sorted(glob.glob('/mnt/storage0/xhu/NEMO/ANHA4-EXH005/ANHA4-EXH005_y'+year+'m??d??_gridT.nc'))\n",
    "    else:\n",
    "        nc_fileU=sorted(glob.glob('/mnt/storage0/xhu/NEMO/ANHA4-EXH005/ANHA4-EXH005_y'+year+'m'+month+'d??_gridU.nc'))\n",
    "        nc_fileV=sorted(glob.glob('/mnt/storage0/xhu/NEMO/ANHA4-EXH005/ANHA4-EXH005_y'+year+'m'+month+'d??_gridV.nc'))\n",
    "        nc_fileT=sorted(glob.glob('/mnt/storage0/xhu/NEMO/ANHA4-EXH005/ANHA4-EXH005_y'+year+'m'+month+'d??_gridT.nc')) \n",
    "    \n",
    "    density_avg = np.zeros((50,rangey[1]-rangey[0],rangex[1]-rangex[0]))\n",
    "    \n",
    "    for filenum in range(0,len(nc_fileU)-1):\n",
    "        print(filenum)\n",
    "        sal = nc.Dataset(nc_fileT[filenum]).variables['vosaline'][0,:,rangey[0]:rangey[1],rangex[0]:rangex[1]]\n",
    "        temp = nc.Dataset(nc_fileT[filenum]).variables['votemper'][0,:,rangey[0]:rangey[1],rangex[0]:rangex[1]]\n",
    "        \n",
    "        density = density_flux(temp, sal)\n",
    "        \n",
    "        density_avg = density_avg + density\n",
    "        \n",
    "    density_avg = density_avg/len(nc_fileT)\n",
    "        \n",
    "    return density_avg\n",
    "def rho(SA, CT, p):\n",
    "    \"\"\"\n",
    "    Calculates in-situ density from Absolute Salinity and Conservative\n",
    "    Temperature, using the computationally-efficient 48-term expression for\n",
    "    density in terms of SA, CT and p (McDougall et al., 2011).\n",
    "    Parameters\n",
    "    ----------\n",
    "    SA : array_like\n",
    "         Absolute Salinity  [g/kg]\n",
    "    CT : array_like\n",
    "         Conservative Temperature [:math:`^\\circ` C (ITS-90)]\n",
    "    p : array_like\n",
    "        sea pressure [dbar]\n",
    "    Returns\n",
    "    -------\n",
    "    rho : array_like\n",
    "          in-situ density [kg/m**3]\n",
    "    Notes\n",
    "    -----\n",
    "    The potential density with respect to reference pressure, pr, is obtained\n",
    "    by calling this function with the pressure argument being pr (i.e.\n",
    "    \"rho(SA,CT,pr)\").\n",
    "    The 48-term equation has been fitted in a restricted range of parameter\n",
    "    space, and is most accurate inside the \"oceanographic funnel\" described in\n",
    "    McDougall et al. (2011).  The GSW library function \"infunnel(SA,CT,p)\" is\n",
    "    available to be used if one wants to test if some of one's data lies\n",
    "    outside this \"funnel\".\n",
    "    Examples\n",
    "    --------\n",
    "    TODO\n",
    "    References\n",
    "    ----------\n",
    "    .. [1] IOC, SCOR and IAPSO, 2010: The international thermodynamic equation\n",
    "       of seawater - 2010: Calculation and use of thermodynamic properties.\n",
    "       Intergovernmental Oceanographic Commission, Manuals and Guides No. 56,\n",
    "       UNESCO (English), 196 pp. See appendix A.20 and appendix K.\n",
    "    .. [2] McDougall T.J., P.M. Barker, R. Feistel and D.R. Jackett, 2011:  A\n",
    "       computationally efficient 48-term expression for the density of\n",
    "       seawater in terms of Conservative Temperature, and related properties\n",
    "       of seawater.\n",
    "    \"\"\"\n",
    "\n",
    "    SA = np.maximum(SA, 0)\n",
    "    sqrtSA = np.sqrt(SA)\n",
    "    args = SA, CT, p, sqrtSA\n",
    "\n",
    "    # This function calculates rho using the computationally-efficient 48-term\n",
    "    # expression for density in terms of SA, CT and p. If one wanted to compute\n",
    "    # rho from SA, CT, and p with the full TEOS-10 Gibbs function, the following\n",
    "    # lines of code will enable this.\n",
    "    #\n",
    "    # pt0 = pt_from_CT(SA, CT)\n",
    "    # t = pt_from_t(SA, pt0, 0, p)\n",
    "    # rho = rho_t_exact(SA, t, p)\n",
    "    #\n",
    "    # or call the following, it is identical to the lines above.\n",
    "    #\n",
    "    # rho = rho_CT_exact(SA, CT, p)\n",
    "    #\n",
    "    # or call the following, it is identical to the lines above.\n",
    "    #\n",
    "    # rho,_ ,_ = rho_alpha_beta_CT_exact(SA, CT, p)\n",
    "\n",
    "    return v_hat_denominator(*args) / v_hat_numerator(*args)\n",
    "\n",
    "v01 = 9.998420897506056e+2\n",
    "v02 = 2.839940833161907\n",
    "v03 = -3.147759265588511e-2\n",
    "v04 = 1.181805545074306e-3\n",
    "v05 = -6.698001071123802\n",
    "v06 = -2.986498947203215e-2\n",
    "v07 = 2.327859407479162e-4\n",
    "v08 = -3.988822378968490e-2\n",
    "v09 = 5.095422573880500e-4\n",
    "v10 = -1.426984671633621e-5\n",
    "v11 = 1.645039373682922e-7\n",
    "v12 = -2.233269627352527e-2\n",
    "v13 = -3.436090079851880e-4\n",
    "v14 = 3.726050720345733e-6\n",
    "v15 = -1.806789763745328e-4\n",
    "v16 = 6.876837219536232e-7\n",
    "v17 = -3.087032500374211e-7\n",
    "v18 = -1.988366587925593e-8\n",
    "v19 = -1.061519070296458e-11\n",
    "v20 = 1.550932729220080e-10\n",
    "v21 = 1.0\n",
    "v22 = 2.775927747785646e-3\n",
    "v23 = -2.349607444135925e-5\n",
    "v24 = 1.119513357486743e-6\n",
    "v25 = 6.743689325042773e-10\n",
    "v26 = -7.521448093615448e-3\n",
    "v27 = -2.764306979894411e-5\n",
    "v28 = 1.262937315098546e-7\n",
    "v29 = 9.527875081696435e-10\n",
    "v30 = -1.811147201949891e-11\n",
    "v31 = -3.303308871386421e-5\n",
    "v32 = 3.801564588876298e-7\n",
    "v33 = -7.672876869259043e-9\n",
    "v34 = -4.634182341116144e-11\n",
    "v35 = 2.681097235569143e-12\n",
    "v36 = 5.419326551148740e-6\n",
    "v37 = -2.742185394906099e-5\n",
    "v38 = -3.212746477974189e-7\n",
    "v39 = 3.191413910561627e-9\n",
    "v40 = -1.931012931541776e-12\n",
    "v41 = -1.105097577149576e-7\n",
    "v42 = 6.211426728363857e-10\n",
    "v43 = -1.119011592875110e-10\n",
    "v44 = -1.941660213148725e-11\n",
    "v45 = -1.864826425365600e-14\n",
    "v46 = 1.119522344879478e-14\n",
    "v47 = -1.200507748551599e-15\n",
    "v48 = 6.057902487546866e-17\n",
    "\n",
    "def v_hat_denominator(SA, CT, p, sqrtSA):\n",
    "    return (v01 + CT * (v02 + CT * (v03 + v04*CT)) +\n",
    "            SA *\n",
    "            (v05 + CT * (v06 + v07 * CT) + sqrtSA *\n",
    "             (v08 + CT * (v09 + CT * (v10 + v11 * CT)))) +\n",
    "            p *\n",
    "            (v12 + CT * (v13 + v14 * CT) + SA * (v15 + v16 * CT) +\n",
    "             p * (v17 + CT * (v18 + v19 * CT) + v20 * SA)))\n",
    "\n",
    "\n",
    "def v_hat_numerator(SA, CT, p, sqrtSA):\n",
    "    return (v21 + CT * (v22 + CT * (v23 + CT * (v24 + v25 * CT))) +\n",
    "            SA *\n",
    "            (v26 + CT * (v27 + CT * (v28 + CT * (v29 + v30 * CT))) +\n",
    "             v36 * SA + sqrtSA *\n",
    "             (v31 + CT * (v32 + CT * (v33 + CT * (v34 + v35 * CT))))) +\n",
    "            p *\n",
    "            (v37 + CT * (v38 + CT * (v39 + v40 * CT)) + SA *\n",
    "             (v41 + v42 * CT) + p *\n",
    "             (v43 + CT * (v44 + v45 * CT + v46 * SA) + p * (v47 + v48 * CT))))"
   ]
  },
  {
   "cell_type": "code",
   "execution_count": 7,
   "metadata": {
    "collapsed": false
   },
   "outputs": [
    {
     "name": "stdout",
     "output_type": "stream",
     "text": [
      "0\n",
      "1\n",
      "2\n",
      "3\n",
      "4\n"
     ]
    }
   ],
   "source": [
    "rangex = [325,500]\n",
    "rangey = [475,675]\n",
    "\n",
    "density10_01 = annual_trans(rangex,rangey,lat,lon,'2010','01')"
   ]
  },
  {
   "cell_type": "code",
   "execution_count": 26,
   "metadata": {
    "collapsed": false
   },
   "outputs": [
    {
     "data": {
      "text/plain": [
       "(array([ 19902.,      0.,      0.,      0.,      0.,      0.,      0.,\n",
       "             0.,      0.,   2098.]),\n",
       " array([   0.        ,   85.63523763,  171.27047526,  256.90571289,\n",
       "         342.54095052,  428.17618815,  513.81142578,  599.44666341,\n",
       "         685.08190104,  770.71713867,  856.3523763 ]),\n",
       " <a list of 10 Patch objects>)"
      ]
     },
     "execution_count": 26,
     "metadata": {},
     "output_type": "execute_result"
    },
    {
     "data": {
      "image/png": "[encoded data removed]",
      "text/plain": [
       "<matplotlib.figure.Figure at 0x7ff7599707d0>"
      ]
     },
     "metadata": {},
     "output_type": "display_data"
    }
   ],
   "source": [
    "#density = ma.masked_where(density10_01[:,:,:] < 10.0, density10_01[:])\n",
    "plt.hist(density10_01[3:47,10:20, 100:150].flatten())\n"
   ]
  },
  {
   "cell_type": "code",
   "execution_count": 30,
   "metadata": {
    "collapsed": false
   },
   "outputs": [
    {
     "name": "stdout",
     "output_type": "stream",
     "text": [
      "[[[-- -- -- ..., -- -- --]\n",
      "  [-- -- -- ..., -- -- --]\n",
      "  [-- -- -- ..., -- -- --]\n",
      "  ..., \n",
      "  [22.789149789816975 22.785903309080407 22.783894341781092 ..., -- -- --]\n",
      "  [22.79317153540478 22.79090500410852 22.786001529436362 ..., -- -- --]\n",
      "  [22.79240591149062 22.790310021121172 22.785937888564376 ..., -- --\n",
      "   21.024045521554854]]\n",
      "\n",
      " [[-- -- -- ..., -- -- --]\n",
      "  [-- -- -- ..., -- -- --]\n",
      "  [-- -- -- ..., -- -- --]\n",
      "  ..., \n",
      "  [22.789156582662866 22.785902990472852 22.783893612518415 ..., -- -- --]\n",
      "  [22.793170905173156 22.790903843730614 22.786000393671657 ..., -- -- --]\n",
      "  [22.792404822103247 22.79030891158398 22.785937237584903 ..., -- --\n",
      "   21.040497361895877]]\n",
      "\n",
      " [[-- -- -- ..., -- -- --]\n",
      "  [-- -- -- ..., -- -- --]\n",
      "  [-- -- -- ..., -- -- --]\n",
      "  ..., \n",
      "  [22.78916340804945 22.785902908143765 22.78389232362353 ..., -- -- --]\n",
      "  [22.793169734670226 22.7909031292736 22.785999693116576 ..., -- -- --]\n",
      "  [22.792403192771605 22.79030774976813 22.78593551621164 ..., -- --\n",
      "   21.0586166871949]]\n",
      "\n",
      " ..., \n",
      " [[-- -- -- ..., -- -- --]\n",
      "  [-- -- -- ..., -- -- --]\n",
      "  [-- -- -- ..., -- -- --]\n",
      "  ..., \n",
      "  [-- -- -- ..., -- -- --]\n",
      "  [-- -- -- ..., -- -- --]\n",
      "  [-- -- -- ..., -- -- --]]\n",
      "\n",
      " [[-- -- -- ..., -- -- --]\n",
      "  [-- -- -- ..., -- -- --]\n",
      "  [-- -- -- ..., -- -- --]\n",
      "  ..., \n",
      "  [-- -- -- ..., -- -- --]\n",
      "  [-- -- -- ..., -- -- --]\n",
      "  [-- -- -- ..., -- -- --]]\n",
      "\n",
      " [[-- -- -- ..., -- -- --]\n",
      "  [-- -- -- ..., -- -- --]\n",
      "  [-- -- -- ..., -- -- --]\n",
      "  ..., \n",
      "  [-- -- -- ..., -- -- --]\n",
      "  [-- -- -- ..., -- -- --]\n",
      "  [-- -- -- ..., -- -- --]]]\n"
     ]
    }
   ],
   "source": [
    "print(density10_01[3:47,10:20, 100:150])"
   ]
  },
  {
   "cell_type": "code",
   "execution_count": null,
   "metadata": {
    "collapsed": true
   },
   "outputs": [],
   "source": []
  }
 ],
 "metadata": {
  "kernelspec": {
   "display_name": "Python 2",
   "language": "python",
   "name": "python2"
  },
  "language_info": {
   "codemirror_mode": {
    "name": "ipython",
    "version": 2
   },
   "file_extension": ".py",
   "mimetype": "text/x-python",
   "name": "python",
   "nbconvert_exporter": "python",
   "pygments_lexer": "ipython2",
   "version": "2.7.11"
  }
 },
 "nbformat": 4,
 "nbformat_minor": 0
}
