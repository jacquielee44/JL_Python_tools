{
 "cells": [
  {
   "cell_type": "code",
   "execution_count": 1,
   "metadata": {
    "collapsed": true
   },
   "outputs": [],
   "source": [
    "from __future__ import division, print_function\n",
    "\n",
    "import netCDF4 as nc\n",
    "import numpy as np\n",
    "\n",
    "import numpy.ma as ma\n",
    "from mpl_toolkits.basemap import Basemap\n",
    "from geopy.distance import vincenty, great_circle\n",
    "import matplotlib.pyplot as plt\n",
    "import matplotlib.colors as colors\n",
    "import matplotlib as mpl\n",
    "import glob\n",
    "from mpl_toolkits.basemap import cm,addcyclic,Basemap, shiftgrid\n",
    "from mpl_toolkits import basemap\n",
    "import warnings\n",
    "from exceptions import KeyError\n",
    "from netCDF4 import Dataset\n",
    "\n",
    "from salishsea_tools import viz_tools\n",
    "%matplotlib inline"
   ]
  },
  {
   "cell_type": "code",
   "execution_count": 21,
   "metadata": {
    "collapsed": true
   },
   "outputs": [],
   "source": [
    "def compute_zonal(kappa,calcKappa=False, zonalmask=False):\n",
    "\n",
    "    k_zonal = np.zeros((len(kappa[:,0,0]),len(kappa[0,:,0])), dtype='float64')\n",
    "    \n",
    "    if calcKappa==True:\n",
    "        for k in np.arange(0,len(kappa[:,0,0])):\n",
    "            counter = 0.0\n",
    "            tot = 0.0\n",
    "            for i in np.arange(0,len(kappa[0,:,0])):\n",
    "                for j in np.arange(0,len(kappa[0,0,:])):\n",
    "                    if ma.is_masked(kappa[k,i,j]) == False and kappa[k,i,j]>0.0:\n",
    "                            counter = counter+volume[k,i,j]\n",
    "                            tot = tot + np.log(kappa[k,i,j])*volume[k,i,j]\n",
    "                \n",
    "                if counter!= 0.0:\n",
    "                    k_zonal[k,i] = np.exp(tot/counter)\n",
    "                    \n",
    "    elif zonalmask==True:\n",
    "        for k in np.arange(0,len(kappa[:,0,0])):\n",
    "            for i in np.arange(0,len(kappa[0,:,0])):\n",
    "                k_zonal[k,i] = np.sum(kappa[k,i,:])/len(kappa[k,i,:])\n",
    "        \n",
    "    else:\n",
    "        for k in np.arange(0,len(kappa[:,0,0])):\n",
    "            for i in np.arange(0,len(kappa[0,:,0])):\n",
    "                counter = 0.0\n",
    "                tot = 0.0\n",
    "                for j in np.arange(0,len(kappa[0,0,:])):\n",
    "                    if ma.is_masked(kappa[k,i,j]) == False:\n",
    "                            counter = counter+1\n",
    "                            tot = tot + kappa[k,i,j]\n",
    "                if counter!= 0:\n",
    "\n",
    "                    k_zonal[k,i] = tot/counter\n",
    "    print('finished zonal calculation')\n",
    "    \n",
    "    return k_zonal"
   ]
  },
  {
   "cell_type": "code",
   "execution_count": 3,
   "metadata": {
    "collapsed": true
   },
   "outputs": [],
   "source": [
    "#state locations of output\n",
    "control = '/mnt/storage0/xhu/NEMO/ANHA4-EXH005/ANHA4-EXH005_'\n",
    "control_storage = '/mnt/storage0/jacquielee/research/data/ANHA4-EXH005/ANHA4-EXH005_'\n",
    "stlandj = '/mnt/storage0/jacquielee/research/data/ANHA4-VJT002/ANHA4-VJT002_'\n",
    "polzin  = '/mnt/storage0/jacquielee/research/data/ANHA4-VJT003/ANHA4-VJT003_'"
   ]
  },
  {
   "cell_type": "code",
   "execution_count": 4,
   "metadata": {
    "collapsed": true
   },
   "outputs": [],
   "source": [
    "mesh = nc.Dataset('/mnt/storage0/jacquielee/research/data/Jasper/mesh_mask_anha4_201509.nc')\n",
    "mask = mesh.variables['tmask'][0]\n",
    "mbathy = ma.array(mesh.variables['mbathy'][0],mask=(mask[0,:,:]-1)*-1)\n",
    "grid = nc.Dataset('/home/jacquielee/data/ANHA4_bathy_etopo1_gebco1_smoothed_coast_corrected_mar10.nc')\n",
    "bathy = grid.variables['Bathymetry'][:]\n",
    "bathy = ma.masked_values(bathy[:],0)\n",
    "zlevels=mesh.variables['gdept_0'][0]\n",
    "lat=mesh.variables['nav_lat']\n",
    "lon=mesh.variables['nav_lon']\n",
    "e1t= mesh.variables['e1t'][0,:,:]  # dx\n",
    "e2t= mesh.variables['e2t'][0,:,:]  # dy \n",
    "e3t= mesh.variables['e3t'][0,:,:,:]\n",
    "volume=e1t*e2t*e3t\n",
    "volume_density = (volume / np.sum(volume))*100"
   ]
  },
  {
   "cell_type": "code",
   "execution_count": 5,
   "metadata": {
    "collapsed": false
   },
   "outputs": [
    {
     "name": "stdout",
     "output_type": "stream",
     "text": [
      "[  109.7292808    130.66598418   155.85072861   186.12556728   222.47516907\n",
      "   266.04024908   318.12742659   380.21302111   453.93774517   541.08890874\n",
      "   643.56684341   763.33305097   902.33931191  1062.43972124  1245.29111236\n",
      "  1452.25093765  1684.28440079  1941.89340079  2225.07793765  2533.33611236\n",
      "  2865.70272124  3220.82031191  3597.03205097  3992.48384341  4405.22390874\n",
      "  4833.29074517  5274.78402111  5727.91642659]\n"
     ]
    }
   ],
   "source": [
    "H=zlevels[:]\n",
    "np.set_printoptions(suppress=True)\n",
    "print(H[22:])"
   ]
  },
  {
   "cell_type": "code",
   "execution_count": 18,
   "metadata": {
    "collapsed": false
   },
   "outputs": [],
   "source": [
    "#csal = ma.array(nc.Dataset(control_storage+'2012-2016avg_vosaline.nc').variables['vosalinefour'],mask=(mask-1)*-1)\n",
    "#ctemp = ma.array(nc.Dataset(control_storage+'2012-2016avg_votemper.nc').variables['votemperfour'],mask=(mask-1)*-1)\n",
    "#ckappa = ma.array(nc.Dataset(control_storage+'2012-2016avg_votkeavt.nc').variables['votkeavtfour'],mask=(mask-1)*-1)\n",
    "\n",
    "#psal = ma.array(nc.Dataset(polzin+'2012-2016avg_vosaline.nc').variables['vosalinefour'],mask=(mask-1)*-1)\n",
    "#ptemp = ma.array(nc.Dataset(polzin+'2012-2016avg_votemper.nc').variables['votemperfour'],mask=(mask-1)*-1)\n",
    "#pkappa = ma.array(nc.Dataset(polzin+'2012-2016avg_votkeavt.nc').variables['votkeavtfour'],mask=(mask-1)*-1)\n",
    "pkaptidal = ma.array(nc.Dataset(polzin+'2012-2016avg_votkeavtidal.nc').variables['votkeavtidalfour'],mask=(mask-1)*-1)\n",
    "\n",
    "#sjsal = ma.array(nc.Dataset(stlandj+'2012-2016avg_vosaline.nc').variables['vosalinefour'],mask=(mask-1)*-1)\n",
    "#sjtemp = ma.array(nc.Dataset(stlandj+'2012-2016avg_votemper.nc').variables['votemperfour'],mask=(mask-1)*-1)\n",
    "#sjkappa = ma.array(nc.Dataset(stlandj+'2012-2016avg_votkeavt.nc').variables['votkeavtfour'],mask=(mask-1)*-1)\n",
    "sjkaptidal = ma.array(nc.Dataset(stlandj+'2012-2016avg_votkeavtidal.nc').variables['votkeavtidalfour'],mask=(mask-1)*-1)"
   ]
  },
  {
   "cell_type": "code",
   "execution_count": 19,
   "metadata": {
    "collapsed": false
   },
   "outputs": [
    {
     "name": "stdout",
     "output_type": "stream",
     "text": [
      "finished zonal calculation\n"
     ]
    },
    {
     "data": {
      "image/png": "[encoded data removed]",
      "text/plain": [
       "<matplotlib.figure.Figure at 0x7f63aefea850>"
      ]
     },
     "metadata": {},
     "output_type": "display_data"
    }
   ],
   "source": [
    "zonal_mask = compute_zonal(mask,zonalmask=True)*(-1)\n",
    "zonal_mask[zonal_mask[:,:]==0.0]=1\n",
    "zonal_mask[zonal_mask[:,:]<0.0]=0\n",
    "z = plt.pcolor(zonal_mask)\n",
    "plt.colorbar(z)\n",
    "plt.show()"
   ]
  },
  {
   "cell_type": "code",
   "execution_count": 22,
   "metadata": {
    "collapsed": false
   },
   "outputs": [
    {
     "name": "stdout",
     "output_type": "stream",
     "text": [
      "finished zonal calculation\n",
      "finished zonal calculation\n"
     ]
    }
   ],
   "source": [
    "# csal = ma.array(compute_zonal(csal[:,:,:]),mask=zonal_mask)\n",
    "# ctemp = ma.array(compute_zonal(ctemp),mask=zonal_mask)\n",
    "# cnsq = ma.array(compute_zonal(cnsq),mask=zonal_mask)\n",
    "#ckappa = ma.array(compute_zonal(ckappa,calcKappa=True),mask=zonal_mask)\n",
    "\n",
    "# psal = ma.array(compute_zonal(psal),mask=zonal_mask)\n",
    "# ptemp = ma.array(compute_zonal(ptemp),mask=zonal_mask)\n",
    "# pnsq = ma.array(compute_zonal(pnsq),mask=zonal_mask)\n",
    "#pkappa = ma.array(compute_zonal(pkappa,calcKappa=True),mask=zonal_mask)\n",
    "pkappatidal = ma.array(compute_zonal(pkaptidal,calcKappa=True),mask=zonal_mask)\n",
    "\n",
    "# sjsal = ma.array(compute_zonal(sjsal),mask=zonal_mask)\n",
    "# sjtemp = ma.array(compute_zonal(sjtemp),mask=zonal_mask)\n",
    "# sjnsq = ma.array(compute_zonal(sjnsq),mask=zonal_mask)\n",
    "#sjkappa = ma.array(compute_zonal(sjkappa,calcKappa=True),mask=zonal_mask)\n",
    "sjkappatidal = ma.array(compute_zonal(sjkaptidal,calcKappa=True),mask=zonal_mask)"
   ]
  },
  {
   "cell_type": "code",
   "execution_count": 9,
   "metadata": {
    "collapsed": true
   },
   "outputs": [],
   "source": [
    "# csal.dump('csal_zonal.npy')\n",
    "# psal.dump('psal_zonal.npy')\n",
    "# sjsal.dump('sjsal_zonal.npy')\n",
    "\n",
    "# ctemp.dump('ctemp_zonal.npy')\n",
    "# ptemp.dump('ptemp_zonal.npy')\n",
    "# sjtemp.dump('sjtemp_zonal.npy')\n",
    "\n",
    "# cnsq.dump('cnsq_zonal.npy')\n",
    "# pnsq.dump('pnsq_zonal.npy')\n",
    "# sjnsq.dump('sjnsq_zonal.npy')\n",
    "\n",
    "#ckappa.dump('ckappa_zonal.npy')\n",
    "#pkappa.dump('pkappa_zonal.npy')\n",
    "#sjkappa.dump('sjkappa_zonal.npy')\n",
    "\n",
    "pkappatidal.dump('pkappatidal_zonal.npy')\n",
    "sjkappatidal.dump('sjkappatidal_zonal.npy')"
   ]
  },
  {
   "cell_type": "code",
   "execution_count": 10,
   "metadata": {
    "collapsed": true
   },
   "outputs": [],
   "source": [
    "csal = np.load('csal_zonal.npy')\n",
    "psal= np.load('psal_zonal.npy')\n",
    "sjsal= np.load('sjsal_zonal.npy')\n",
    "\n",
    "ctemp= np.load('ctemp_zonal.npy')\n",
    "ptemp= np.load('ptemp_zonal.npy')\n",
    "sjtemp= np.load('sjtemp_zonal.npy')\n",
    "\n",
    "cnsq= np.load('cnsq_zonal.npy')\n",
    "pnsq= np.load('pnsq_zonal.npy')\n",
    "sjnsq= np.load('sjnsq_zonal.npy')"
   ]
  },
  {
   "cell_type": "code",
   "execution_count": 11,
   "metadata": {
    "collapsed": true
   },
   "outputs": [],
   "source": [
    "labels3 = ['20S', '4N', '28N', '48N', '64N', '77N', '86N', '78N']"
   ]
  },
  {
   "cell_type": "code",
   "execution_count": 12,
   "metadata": {
    "collapsed": false
   },
   "outputs": [
    {
     "data": {
      "image/png": "[encoded data removed]",
      "text/plain": [
       "<matplotlib.figure.Figure at 0x7f640c72af50>"
      ]
     },
     "metadata": {},
     "output_type": "display_data"
    }
   ],
   "source": [
    "fig, ax = plt.subplots(1,1, figsize=(10,5)) \n",
    "x = np.arange(0,800)\n",
    "y = zlevels[:]\n",
    "X, Y = np.meshgrid(x[:], y[:])\n",
    "cmap = plt.get_cmap('jet')\n",
    "cmap.set_bad('0.25',alpha=None)\n",
    "norm = colors.PowerNorm(2,vmin=27, vmax=37)\n",
    "mesh = ax.pcolormesh(X,Y,csal,norm=norm,cmap=cmap)\n",
    "plt.ylim(zlevels[0],zlevels[-1])\n",
    "ax.set_ylim(ax.get_ylim()[::-1])\n",
    "ax.set_xticklabels(labels3)\n",
    "ticks = [27,29,30,31,32,33,34,35,36,37]\n",
    "bar = plt.colorbar(mesh, ticks=ticks,orientation='horizontal' ,label='Absolute Salinity')\n",
    "# ax[1].pcolor(X,Y,ctemp)\n",
    "# ax[1].set_ylim(ax[1].get_ylim()[::-1])\n",
    "# ax[2].pcolor(X,Y,ckappa)\n",
    "# ax[2].set_ylim(ax[1].get_ylim()[::-1])"
   ]
  },
  {
   "cell_type": "code",
   "execution_count": null,
   "metadata": {
    "collapsed": true
   },
   "outputs": [],
   "source": []
  },
  {
   "cell_type": "code",
   "execution_count": 23,
   "metadata": {
    "collapsed": false
   },
   "outputs": [
    {
     "data": {
      "text/plain": [
       "6.3650334019497935e-05"
      ]
     },
     "execution_count": 23,
     "metadata": {},
     "output_type": "execute_result"
    }
   ],
   "source": [
    "sjkappatidal[5,750]"
   ]
  },
  {
   "cell_type": "code",
   "execution_count": null,
   "metadata": {
    "collapsed": true
   },
   "outputs": [],
   "source": []
  },
  {
   "cell_type": "code",
   "execution_count": 30,
   "metadata": {
    "collapsed": false
   },
   "outputs": [
    {
     "data": {
      "image/png": "[encoded data removed]",
      "text/plain": [
       "<matplotlib.figure.Figure at 0x7f63d2a04cd0>"
      ]
     },
     "metadata": {},
     "output_type": "display_data"
    }
   ],
   "source": [
    "fig, ax = plt.subplots(1,1, figsize=(15,5)) \n",
    "x = np.arange(0,800)\n",
    "y = zlevels[:]\n",
    "X, Y = np.meshgrid(x[:], y[:])\n",
    "cmap = plt.get_cmap('viridis',25)\n",
    "cmap.set_bad('0.25')\n",
    "#cmap.set_under('white')\n",
    "#norm = colors.Normalize(vmin=-1, vmax=1)\n",
    "#norm = mpl.colors.BoundaryNorm(sal_bounds, cmap.N)\n",
    "norm = colors.LogNorm(vmin=10**-8, vmax=10**-2)\n",
    "#norm = colors.LogNorm(vmin=10**-6, vmax=10**-2)\n",
    "#norm = mpl.colors.BoundaryNorm(kappa_bounds, cmap.N)\n",
    "mesh = ax.pcolormesh(X,Y,pkappatidal,cmap=cmap,norm=norm)\n",
    "plt.ylim(zlevels[0],zlevels[-1])\n",
    "ax.set_ylim(ax.get_ylim()[::-1])\n",
    "ax.set_xticklabels(labels3,fontsize=16)\n",
    "\n",
    "ax.set_ylabel('Depth (m)', fontsize=18)\n",
    "plt.tick_params(axis='y',which='major',labelsize=14)\n",
    "# ticks = [27,29,30,31,32,33,34,35,36,37]\n",
    "bar = plt.colorbar(mesh,orientation='horizontal')\n",
    "#bar = plt.colorbar(mesh,orientation='horizontal' ,ticks=kappa_bounds[:])\n",
    "#bar.set_ticklabels(kappa_labels)\n",
    "bar.ax.tick_params(labelsize=16)\n",
    "label = r'$K_{vfull}$ '+r'($\\frac{m^2}{s}$)'\n",
    "#label = 'Conservative Temperature Anomaly ($^\\circ$C)'\n",
    "#label = 'Salinity Anomaly (PSU)'\n",
    "bar.set_label(label,fontsize=18)\n",
    "bar.update_ticks()"
   ]
  },
  {
   "cell_type": "code",
   "execution_count": 33,
   "metadata": {
    "collapsed": true
   },
   "outputs": [],
   "source": [
    "#kappa_bounds = np.array([-10**-2, -10**-3,-10**-4,-10**-5,-10**-6,0.0,\n",
    "#                         10**-6,10**-5,10**-4,10**-3,10**-2])\n",
    "#kappa_labels = [r'${-10^{-2}}$',r'${-10^{-3}}$',r'${-10^{-4}}$',r'${-10^{-5}}$',r'${-10^{-6}}$','0',\n",
    "#                r'${10^{-6}}$',r'${10^{-5}}$',r'${10^{-4}}$',r'${10^{-3}}$',r'${10^{-2}}$']\n",
    "\n",
    "kappa_bounds = np.array([-10**-2, -10**-3,-10**-4,-10**-5,-10**-6,-10**-7,-10**-8,0.0,\n",
    "                        10**-8,10**-7,10**-6,10**-5,10**-4,10**-3,10**-2])\n",
    "\n",
    "kappa_labels = [r'${-10^{-2}}$',r'${-10^{-3}}$',r'${-10^{-4}}$',r'${-10^{-5}}$',r'${-10^{-6}}$',\n",
    "                r'${-10^{-7}}$',r'${-10^{-8}}$','0',r'${10^{-8}}$',r'${10^{-7}}$',\n",
    "                r'${10^{-6}}$',r'${10^{-5}}$',r'${10^{-4}}$',r'${10^{-3}}$',r'${10^{-2}}$']"
   ]
  },
  {
   "cell_type": "code",
   "execution_count": 34,
   "metadata": {
    "collapsed": false
   },
   "outputs": [
    {
     "data": {
      "image/png": "[encoded data removed]",
      "text/plain": [
       "<matplotlib.figure.Figure at 0x7f63adab6910>"
      ]
     },
     "metadata": {},
     "output_type": "display_data"
    }
   ],
   "source": [
    "    \n",
    "fig, ax = plt.subplots(1,1, figsize=(15,5)) \n",
    "x = np.arange(0,800)\n",
    "y = zlevels[:]\n",
    "X, Y = np.meshgrid(x[:], y[:])\n",
    "cmap = plt.get_cmap('coolwarm',25)\n",
    "cmap.set_bad('0.25')\n",
    "cmap.set_over('gray')\n",
    "#norm = colors.Normalize(vmin=-1, vmax=1)\n",
    "#norm = mpl.colors.BoundaryNorm(sal_bounds, cmap.N)\n",
    "norm = mpl.colors.BoundaryNorm(kappa_bounds, cmap.N)\n",
    "#norm = colors.LogNorm(vmin=10**-6, vmax=10**-2)\n",
    "#norm = mpl.colors.BoundaryNorm(kappa_bounds, cmap.N)\n",
    "mesh = ax.pcolormesh(X,Y,sjkappatidal-pkappatidal,cmap=cmap,norm=norm)\n",
    "plt.ylim(zlevels[0],zlevels[-1])\n",
    "ax.set_ylim(ax.get_ylim()[::-1])\n",
    "ax.set_xticklabels(labels3,fontsize=16)\n",
    "\n",
    "ax.set_ylabel('Depth (m)', fontsize=18)\n",
    "plt.tick_params(axis='y',which='major',labelsize=14)\n",
    "# ticks = [27,29,30,31,32,33,34,35,36,37]\n",
    "\n",
    "bar = plt.colorbar(mesh,orientation='horizontal',ticks=kappa_bounds)# ,label='Buoyancy Frequency ('+r'${N^2}$'+')',labelsize=18)\n",
    "#bar = plt.colorbar(mesh,orientation='horizontal')# ,ticks=nsq_bounds)\n",
    "\n",
    "bar.set_ticklabels(kappa_labels)\n",
    "\n",
    "bar.ax.tick_params(labelsize=16)\n",
    "#label = r'$K_{vfull}$ '+r'($\\frac{m^2}{s}$)'\n",
    "label = '$K_{vfull}$  Anomaly'\n",
    "#label = 'Conservative Temperature Anomaly ($^\\circ$C)'\n",
    "#label = 'Salinity Anomaly (PSU)'\n",
    "bar.set_label(label,fontsize=18)\n",
    "\n",
    "#bar.set_label(label, fontsize=14)\n",
    "#bar.ax.tick_params(labelsize=14)\n",
    "bar.update_ticks()\n"
   ]
  },
  {
   "cell_type": "code",
   "execution_count": null,
   "metadata": {
    "collapsed": true
   },
   "outputs": [],
   "source": []
  }
 ],
 "metadata": {
  "kernelspec": {
   "display_name": "Python 2",
   "language": "python",
   "name": "python2"
  },
  "language_info": {
   "codemirror_mode": {
    "name": "ipython",
    "version": 2
   },
   "file_extension": ".py",
   "mimetype": "text/x-python",
   "name": "python",
   "nbconvert_exporter": "python",
   "pygments_lexer": "ipython2",
   "version": "2.7.11"
  }
 },
 "nbformat": 4,
 "nbformat_minor": 0
}
