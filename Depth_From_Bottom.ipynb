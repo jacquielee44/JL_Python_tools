{
 "cells": [
  {
   "cell_type": "code",
   "execution_count": 1,
   "metadata": {
    "collapsed": true
   },
   "outputs": [],
   "source": [
    "from __future__ import division, print_function\n",
    "\n",
    "import netCDF4 as nc\n",
    "import numpy as np\n",
    "\n",
    "from scipy.interpolate import griddata\n",
    "\n",
    "import numpy.ma as ma\n",
    "from mpl_toolkits.basemap import Basemap\n",
    "import matplotlib.pyplot as plt\n",
    "import matplotlib.colors as colors\n",
    "import matplotlib as mpl\n",
    "import glob\n",
    "from mpl_toolkits.basemap import cm,addcyclic,Basemap, shiftgrid\n",
    "from mpl_toolkits import basemap\n",
    "import warnings\n",
    "from exceptions import KeyError\n",
    "from netCDF4 import Dataset\n",
    "%matplotlib inline"
   ]
  },
  {
   "cell_type": "code",
   "execution_count": 2,
   "metadata": {
    "collapsed": true
   },
   "outputs": [],
   "source": [
    "#state locations of output\n",
    "control = '/mnt/storage0/xhu/NEMO/ANHA4-EXH005/ANHA4-EXH005_'\n",
    "control_storage = '/mnt/storage0/jacquielee/research/data/ANHA4-EXH005/ANHA4-EXH005_'\n",
    "stlandj = '/mnt/storage0/jacquielee/research/data/ANHA4-VJT002/ANHA4-VJT002_'\n",
    "polzin  = '/mnt/storage0/jacquielee/research/data/ANHA4-VJT003/ANHA4-VJT003_'"
   ]
  },
  {
   "cell_type": "code",
   "execution_count": 3,
   "metadata": {
    "collapsed": false
   },
   "outputs": [],
   "source": [
    "mesh = nc.Dataset('/mnt/storage0/jacquielee/research/data/Jasper/mesh_mask_anha4_201509.nc')\n",
    "mask = mesh.variables['tmask'][0]\n",
    "mbathy = ma.array(mesh.variables['mbathy'][0],mask=(mask[0,:,:]-1)*-1)"
   ]
  },
  {
   "cell_type": "code",
   "execution_count": 4,
   "metadata": {
    "collapsed": false
   },
   "outputs": [
    {
     "data": {
      "text/plain": [
       "(800, 544)"
      ]
     },
     "execution_count": 4,
     "metadata": {},
     "output_type": "execute_result"
    }
   ],
   "source": [
    "mbathy.shape"
   ]
  },
  {
   "cell_type": "code",
   "execution_count": 5,
   "metadata": {
    "collapsed": true
   },
   "outputs": [],
   "source": [
    "H=mesh.variables['gdept_0'][0]\n",
    "lat=mesh.variables['nav_lat']\n",
    "lon=mesh.variables['nav_lon']\n",
    "e1t= mesh.variables['e1t'][0,:,:]  # dx\n",
    "e2t= mesh.variables['e2t'][0,:,:]  # dy \n",
    "e3t= mesh.variables['e3t'][0,:,:,:]\n",
    "volume=e1t*e2t*e3t\n",
    "volume_density = (volume / np.sum(volume))*100"
   ]
  },
  {
   "cell_type": "code",
   "execution_count": 6,
   "metadata": {
    "collapsed": false
   },
   "outputs": [],
   "source": [
    "#pkappatidal = ma.array(nc.Dataset(polzin+'2012-2016avg_votkeavtidal.nc').variables['votkeavtidalfour'],mask=(mask-1)*-1)\n",
    "#sjkappatidal = ma.array(nc.Dataset(stlandj+'2012-2016avg_votkeavtidal.nc').variables['votkeavtidalfour'],mask=(mask-1)*-1)\n"
   ]
  },
  {
   "cell_type": "code",
   "execution_count": 12,
   "metadata": {
    "collapsed": false
   },
   "outputs": [
    {
     "name": "stdout",
     "output_type": "stream",
     "text": [
      "[    0.49402537     1.54137544     2.64566855     3.81949484     5.07822353\n",
      "     6.440614       7.92956029     9.57299723    11.40500287    13.46713814\n",
      "    15.81007331    18.49555958    21.59881546    25.21140882    29.44472894\n",
      "    34.43415624    40.3440502     47.37368756    55.7642891     65.80727224\n",
      "    77.85385106    92.32606906   109.7292808    130.66598418   155.85072861\n",
      "   186.12556728   222.47516907   266.04024908   318.12742659   380.21302111\n",
      "   453.93774517   541.08890874   643.56684341   763.33305097   902.33931191\n",
      "  1062.43972124  1245.29111236  1452.25093765  1684.28440079  1941.89340079]\n"
     ]
    }
   ],
   "source": [
    "np.set_printoptions(suppress=True)\n",
    "print(H[:40])"
   ]
  },
  {
   "cell_type": "code",
   "execution_count": 8,
   "metadata": {
    "collapsed": false
   },
   "outputs": [],
   "source": [
    "# Exy = np.zeros_like(pkappatidal)\n",
    "# for kk in range(0,50):\n",
    "#     Exy[kk,:,:] = E[:,:]\n",
    "    \n",
    "# Exy = ma.array(Exy,mask=(mask-1)*-1)"
   ]
  },
  {
   "cell_type": "code",
   "execution_count": 6,
   "metadata": {
    "collapsed": true
   },
   "outputs": [],
   "source": [
    "ckappa = ma.array(nc.Dataset(control_storage+'2012-2016avg_votkeavt.nc').variables['votkeavtfour'],mask=(mask-1)*-1)\n",
    "pkappa = ma.array(nc.Dataset(polzin+'2012-2016avg_votkeavt.nc').variables['votkeavtfour'],mask=(mask-1)*-1)\n",
    "sjkappa = ma.array(nc.Dataset(stlandj+'2012-2016avg_votkeavt.nc').variables['votkeavtfour'],mask=(mask-1)*-1)"
   ]
  },
  {
   "cell_type": "code",
   "execution_count": 9,
   "metadata": {
    "collapsed": false
   },
   "outputs": [],
   "source": [
    "# cnsq = ma.array(nc.Dataset(control_storage+'2012-2016avg_nsquare.nc').variables['nsquarefour'],mask=(mask-1)*-1)\n",
    "# pnsq = ma.array(nc.Dataset(polzin+'2012-2016avg_nsquare.nc').variables['nsquarefour'],mask=(mask-1)*-1)\n",
    "# sjnsq = ma.array(nc.Dataset(stlandj+'2012-2016avg_nsquare.nc').variables['nsquarefour'],mask=(mask-1)*-1)"
   ]
  },
  {
   "cell_type": "code",
   "execution_count": 7,
   "metadata": {
    "collapsed": false
   },
   "outputs": [],
   "source": [
    "def depth_from_bottom(var,depth):\n",
    "    '''\n",
    "    params are the 3D variable and the depth of grid cells\n",
    "    returns the 3D depth from bottom variable and the new 3D grid for DFB metric\n",
    "    and the furthest from bottom value.\n",
    "    '''\n",
    "    \n",
    "    dfb_var = np.zeros_like(var)\n",
    "    #dfb = np.zeros_like(var)\n",
    "    DFB = np.zeros((len(var[0,:,0]),len(var[0,0,:])))\n",
    "    for ii in np.arange(0,len(var[0,:,0])):\n",
    "        for jj in np.arange(0,len(var[0,0,:])):\n",
    "            dfbcount = 0\n",
    "            for kk in np.arange(len(var[:,0,0])-1,-1,-1):\n",
    "                if ma.is_masked(var[kk,ii,jj]):\n",
    "                    continue\n",
    "                    \n",
    "                else:\n",
    "                    dfb_var[dfbcount,ii,jj] = var[kk,ii,jj]\n",
    "                    if dfbcount == 0:\n",
    "#                        dfb[kk,ii,jj] = 0.0\n",
    "                        DFB[ii,jj] = depth[kk]\n",
    "#                     else: \n",
    "#                         dfb[dfbcount,ii,jj] = DFB[ii,jj]-depth[kk]\n",
    "                    dfbcount = dfbcount+1\n",
    "                    \n",
    "                    \n",
    "    print('completed')\n",
    "    return dfb_var,DFB\n",
    "                    \n",
    "    \n",
    "def DFB_log_avg(var,H,minimum):\n",
    "    '''\n",
    "    Variable is 3D and converted to depth from bottom\n",
    "    DFB is a 2D grid with the depth of the water column\n",
    "    \n",
    "    For kappa want to remove values higher than 10**-2\n",
    "    \n",
    "    Want to average across similar depths. \n",
    "    Specify how many categories the results should be divided into\n",
    "    '''\n",
    "\n",
    "    var_new = np.zeros((len(H)))\n",
    "\n",
    "    for k in np.arange(0,len(var[:,0,0])):\n",
    "        counter = 0.0\n",
    "        tot = 0.0\n",
    "\n",
    "        for i in np.arange(0,len(var[0,:,0])):\n",
    "            for j in np.arange(0,len(var[0,0,:])):\n",
    "                \n",
    "                if DFB[i, j] > minimum:\n",
    "                \n",
    "                    if ma.is_masked(var[k,i,j]) == False and var[k,i,j]<=10**-2:\n",
    "                        counter = counter+1\n",
    "                        tot = tot + np.log(var[k,i,j])        \n",
    "                                \n",
    "\n",
    "        if counter!= 0.0:\n",
    "            var_new[k] = np.exp(tot/counter)\n",
    "#             print(var_new[k],'kappa value')\n",
    "#             print(counter, 'counter')\n",
    "#             print(tot,'tot')\n",
    "            \n",
    "            \n",
    "    print('logmean complete')\n",
    "            \n",
    "    return var_new\n",
    "def DFB_arith_avg(var,DFB):\n",
    "    '''\n",
    "    Variable is 3D and converted to depth from bottom\n",
    "    DFB is a 2D grid with the depth of the water column\n",
    "    \n",
    "    For kappa want to remove values higher than 10**-2\n",
    "    \n",
    "    Want to average across similar depths. \n",
    "    Specify how many categories the results should be divided into\n",
    "    '''\n",
    "\n",
    "    var_new = np.zeros((len(var[:,0,0])))\n",
    "\n",
    "    for k in np.arange(0,len(var[:,0,0])):\n",
    "        counter = 0.0\n",
    "        tot = 0.0\n",
    "\n",
    "        for i in np.arange(0,len(var[0,:,0])):\n",
    "            for j in np.arange(0,len(var[0,0,:])):\n",
    "                \n",
    "                #if DFB[i, j] > minimum:\n",
    "                \n",
    "                if ma.is_masked(var[k,i,j]) == False:\n",
    "                    counter = counter+1\n",
    "                    tot = tot + var[k,i,j]\n",
    "\n",
    "        if counter!= 0:\n",
    "            var_new[k] = tot/counter\n",
    "            print(var_new[k],'kappa value')\n",
    "            print(counter, 'counter')\n",
    "            print(tot,'tot')\n",
    "    print('arithmean complete')\n",
    "            \n",
    "    return var_new"
   ]
  },
  {
   "cell_type": "code",
   "execution_count": 12,
   "metadata": {
    "collapsed": false
   },
   "outputs": [],
   "source": [
    "#First need to change the grid cell to be uniform\n",
    "#Will set to 1m ? intervals. \n",
    "#If one grid cell goes over several intervals then it will have the same value for several 1m spots\n",
    "#If a 1m spot falls inbetween two cells, then the arithmetic average will be taken\n",
    "np.set_printoptions(suppress=True)\n",
    "# print(H)\n",
    "newH = np.arange(1,4500,75)\n",
    "# print(newH)\n",
    "#testcol = ckappa[:,700,200]\n",
    "# print(testcol)\n",
    "\n",
    "# newtestcol = griddata(H,testcol,newH)\n",
    "# newtestcol = ma.masked_where(newtestcol[:]>10**-2,newtestcol[:])\n",
    "\n",
    "# print(newtestcol)"
   ]
  },
  {
   "cell_type": "code",
   "execution_count": 14,
   "metadata": {
    "collapsed": false
   },
   "outputs": [],
   "source": [
    "#okay so using griddata and interpolating to a 1M constant z seems to work. \n",
    "#Just lose some variability in the surface. \n",
    "#So to calculate DFB regrid to 1m\n",
    "#then log average this new grid\n",
    "def interpolate_depth(var,H,newH):\n",
    "    newvar = np.zeros((len(newH[:]),len(var[0,:,0]),len(var[0,0,:])))\n",
    "    for i in np.arange(0,len(var[0,:,0])):\n",
    "        for j in np.arange(0,len(var[0,0,:])):\n",
    "            newvar[:,i,j] = griddata(H,var[:,i,j],newH)\n",
    "            \n",
    "    newvar = ma.masked_where(newvar[:,:,:] >10**-2, newvar)\n",
    "    print('interpolation complete')\n",
    "    return newvar\n",
    "            \n"
   ]
  },
  {
   "cell_type": "code",
   "execution_count": 15,
   "metadata": {
    "collapsed": false
   },
   "outputs": [
    {
     "name": "stdout",
     "output_type": "stream",
     "text": [
      "interpolation complete\n",
      "interpolation complete\n",
      "interpolation complete\n"
     ]
    }
   ],
   "source": [
    "#look at either Arctic 400: or north atlantic :400\n",
    "ckappanew = interpolate_depth(ckappa[:,:400,:], H, newH)\n",
    "sjkappanew = interpolate_depth(sjkappa[:,:400,:], H, newH)\n",
    "pkappanew = interpolate_depth(pkappa[:,:400,:], H, newH)"
   ]
  },
  {
   "cell_type": "code",
   "execution_count": 18,
   "metadata": {
    "collapsed": false
   },
   "outputs": [
    {
     "name": "stdout",
     "output_type": "stream",
     "text": [
      "completed\n",
      "completed\n",
      "completed\n"
     ]
    }
   ],
   "source": [
    "#Find the DFB field (i.e. squash the kappa field) and dump a numpy file of the data \n",
    "#to avoid memory problems later on\n",
    "DFBckap,DFB = depth_from_bottom(ckappanew,newH)\n",
    "DFBckap.dump('/mnt/storage0/jacquielee/data/DFBckapATLANTIC.npy')\n",
    "DFB.dump('/mnt/storage0/jacquielee/data/DFBATLANTIC.npy')\n",
    "DFBsjkap,DFB = depth_from_bottom(sjkappanew,newH)\n",
    "DFBsjkap.dump('/mnt/storage0/jacquielee/data/DFBsjkapATLANTIC.npy')\n",
    "\n",
    "DFBpkap, DFB= depth_from_bottom(pkappanew,newH)\n",
    "DFBpkap.dump('/mnt/storage0/jacquielee/data/DFBpkapATLANTIC.npy')\n"
   ]
  },
  {
   "cell_type": "code",
   "execution_count": 8,
   "metadata": {
    "collapsed": false
   },
   "outputs": [],
   "source": [
    "DFBckap = np.load('/mnt/storage0/jacquielee/data/DFBckap.npy')\n",
    "DFBsjkap = np.load('/mnt/storage0/jacquielee/data/DFBsjkap.npy')\n",
    "DFBpkap = np.load('/mnt/storage0/jacquielee/data/DFBpkap.npy')\n",
    "DFB = np.load('/mnt/storage0/jacquielee/data/DFB.npy')"
   ]
  },
  {
   "cell_type": "code",
   "execution_count": 21,
   "metadata": {
    "collapsed": true
   },
   "outputs": [],
   "source": [
    "DFBckap = ma.masked_where(DFBckap<10**-7,DFBckap)\n",
    "DFBsjkap = ma.masked_where(DFBsjkap<10**-7,DFBsjkap)\n",
    "DFBpkap = ma.masked_where(DFBpkap<10**-7,DFBpkap)"
   ]
  },
  {
   "cell_type": "code",
   "execution_count": 22,
   "metadata": {
    "collapsed": false,
    "scrolled": true
   },
   "outputs": [
    {
     "name": "stdout",
     "output_type": "stream",
     "text": [
      "logmean complete\n",
      "logmean complete\n",
      "logmean complete\n"
     ]
    }
   ],
   "source": [
    "#now take the log average for all shallow profiles (less than 1000m)\n",
    "clogkappa = DFB_log_avg(DFBckap,newH,1000)\n",
    "clogkappa.dump('/mnt/storage0/jacquielee/data/clogkappafinegrid_<1000.npy')\n",
    "\n",
    "sjlogkappa = DFB_log_avg(DFBsjkap,newH,1000)\n",
    "sjlogkappa.dump('/mnt/storage0/jacquielee/data/sjlogkappafinegrid_<1000.npy')\n",
    "\n",
    "plogkappa = DFB_log_avg(DFBpkap,newH,1000)\n",
    "plogkappa.dump('/mnt/storage0/jacquielee/data/plogkappafinegrid_<1000.npy')"
   ]
  },
  {
   "cell_type": "code",
   "execution_count": 22,
   "metadata": {
    "collapsed": false
   },
   "outputs": [],
   "source": [
    "clogkappa = np.load('/mnt/storage0/jacquielee/data/clogkappa_2000.npy')\n",
    "sjlogkappa = np.load('/mnt/storage0/jacquielee/data/sjlogkappa_2000.npy')\n",
    "plogkappa = np.load('/mnt/storage0/jacquielee/data/plogkappa_2000.npy')"
   ]
  },
  {
   "cell_type": "code",
   "execution_count": 29,
   "metadata": {
    "collapsed": false
   },
   "outputs": [
    {
     "data": {
      "image/png": "[encoded data removed]",
      "text/plain": [
       "<matplotlib.figure.Figure at 0x7f2bdda76490>"
      ]
     },
     "metadata": {},
     "output_type": "display_data"
    }
   ],
   "source": [
    "\n",
    "plt.plot(sjlogkappa[:40],newH[:40],marker='o',color='blue')\n",
    "plt.plot(plogkappa[:40],newH[:40],marker='+',color='green')\n",
    "plt.plot(clogkappa[:40],newH[:40],marker='*',color='red')\n",
    "plt.legend([ 'Jayne and St Laurent','Polzin','Control'],bbox_to_anchor=(1.05, 1), loc=2, borderaxespad=0.)\n",
    "plt.xscale('log')\n",
    "plt.ylabel('Height Above Bottom (m)',fontsize=14)\n",
    "\n",
    "plt.grid()"
   ]
  },
  {
   "cell_type": "code",
   "execution_count": 3,
   "metadata": {
    "collapsed": false
   },
   "outputs": [],
   "source": [
    "# Fzp1 = np.multiply(pkappatidal,pnsq)\n",
    "# Fzp2 = (const*Exy)\n",
    "# Fzp = np.divide(Fzp1,Fzp2)"
   ]
  },
  {
   "cell_type": "code",
   "execution_count": 4,
   "metadata": {
    "collapsed": false
   },
   "outputs": [],
   "source": [
    "# Fzstl1 = np.multiply(sjkappatidal,sjnsq)\n",
    "# Fzstl2 = const*Exy\n",
    "# Fzstl = np.divide(Fzstl1,Fzstl2)"
   ]
  },
  {
   "cell_type": "code",
   "execution_count": 2,
   "metadata": {
    "collapsed": false
   },
   "outputs": [],
   "source": [
    "# nrows = 800\n",
    "# ncols = 544\n",
    "# nvert = 50\n",
    "# path = polzin\n",
    "# startyr = 2012\n",
    "# var = 'Fz'\n",
    "\n",
    "# netfile = Dataset(path+str(startyr)+'-'+str(startyr+4)+'avg_'+var+'.nc', 'w', format='NETCDF3_64BIT')\n",
    "# print(path+str(startyr)+'-'+str(startyr+4)+'avg_'+var+'.nc')\n",
    "    \n",
    "# netfile.createDimension('x', nrows)\n",
    "# netfile.createDimension('y', ncols)\n",
    "# netfile.createDimension('z', nvert)\n",
    "# new_var = netfile.createVariable(var+'four', 'f8', ('z','x', 'y'))\n",
    "# new_var[:,:,:] = Fzp[:,:,:]\n",
    "# netfile.close()"
   ]
  },
  {
   "cell_type": "code",
   "execution_count": 1,
   "metadata": {
    "collapsed": false
   },
   "outputs": [],
   "source": [
    "# Fzp = ma.array(nc.Dataset(polzin+'2012-2016avg_Fz.nc').variables['Fzfour'],mask=(mask-1)*-1)\n",
    "# Fzstl = ma.array(nc.Dataset(stlandj+'2012-2016avg_Fz.nc').variables['Fzfour'],mask=(mask-1)*-1)"
   ]
  },
  {
   "cell_type": "code",
   "execution_count": null,
   "metadata": {
    "collapsed": false
   },
   "outputs": [],
   "source": [
    "def glob_arith_mean(var, kappa = False):\n",
    "    var = var.flatten()\n",
    "    vol = volume.flatten()\n",
    "    var_new = 0.0\n",
    "    counter = 0\n",
    "    tot = 0.0\n",
    "    \n",
    "    for ii in np.arange(0,len(var)):\n",
    "        \n",
    "        if kappa == True:\n",
    "            if ma.is_masked(var[ii]) == False and var[ii]<=10**-2: \n",
    "                counter = counter+vol[ii]\n",
    "                tot = tot+var[ii]*vol[ii]\n",
    "        else:\n",
    "            counter = counter+vol[ii]\n",
    "            tot = tot+var[ii]*vol[ii]\n",
    "    var_new = tot/counter\n",
    "    \n",
    "    return var_new\n",
    "def arith_mean(var, kappa=False):\n",
    "    var_new = np.zeros((50))\n",
    "\n",
    "    for k in np.arange(0,len(var[:,0,0])):\n",
    "        print(k)\n",
    "        counter = 0.0\n",
    "        tot = 0.0\n",
    "\n",
    "        for i in np.arange(0,len(var[0,:,0])):\n",
    "            for j in np.arange(0,len(var[0,0,:])):\n",
    "                \n",
    "                if kappa == True:\n",
    "                    if ma.is_masked(var[k,i,j]) == False and var[k,i,j]<=10**-2:\n",
    "                            counter = counter+volume[k,i,j]\n",
    "                            tot = tot + var[k,i,j]*volume[k,i,j]\n",
    "                else:\n",
    "                    if ma.is_masked(var[k,i,j]) == False:\n",
    "                            counter = counter+volume[k,i,j]\n",
    "                            tot = tot + var[k,i,j]*volume[k,i,j]\n",
    "\n",
    "        if counter!= 0:\n",
    "            var_new[k] = tot/counter\n",
    "            \n",
    "    return var_new\n",
    "def log_mean(var,kappa=False):\n",
    "\n",
    "    var_new = np.zeros((50))\n",
    "\n",
    "    for k in np.arange(0,len(var[:,0,0])):\n",
    "        print(k)\n",
    "        counter = 0.0\n",
    "        tot = 0.0\n",
    "\n",
    "        for i in np.arange(0,len(var[0,:,0])):\n",
    "            for j in np.arange(0,len(var[0,0,:])):\n",
    "                \n",
    "                if kappa == True:\n",
    "                    if ma.is_masked(var[k,i,j]) == False and var[k,i,j]<=10**-2:\n",
    "                            counter = counter+volume[k,i,j]\n",
    "                            tot = tot + np.log(var[k,i,j])*volume[k,i,j]\n",
    "                else:\n",
    "                    if ma.is_masked(var[k,i,j]) == False:\n",
    "                            counter = counter+volume[k,i,j]\n",
    "                            tot = tot + np.log(var[k,i,j])*volume[k,i,j]\n",
    "\n",
    "        if counter!= 0:\n",
    "            var_new[k] = np.exp(tot/counter)\n",
    "            \n",
    "    return var_new"
   ]
  },
  {
   "cell_type": "code",
   "execution_count": 5,
   "metadata": {
    "collapsed": false
   },
   "outputs": [],
   "source": [
    "#Fzp_glob = log_mean(Fzp)\n",
    "#Fzstl_glob = arith_mean(Fzstl)"
   ]
  },
  {
   "cell_type": "code",
   "execution_count": 7,
   "metadata": {
    "collapsed": false
   },
   "outputs": [],
   "source": [
    "# plt.plot(Fzp_glob[:],H)\n",
    "# #plt.plot(Fzstl[:,100,250],H)\n",
    "# plt.xscale('log')\n",
    "# plt.legend([ 'polzin','Stl'],bbox_to_anchor=(1.05, 1), loc=2, borderaxespad=0.)\n",
    "# plt.ylim(H[-1],H[0])\n",
    "# plt.show()"
   ]
  },
  {
   "cell_type": "code",
   "execution_count": 6,
   "metadata": {
    "collapsed": false
   },
   "outputs": [],
   "source": [
    "#Fzp_glob"
   ]
  },
  {
   "cell_type": "code",
   "execution_count": null,
   "metadata": {
    "collapsed": true
   },
   "outputs": [],
   "source": []
  }
 ],
 "metadata": {
  "kernelspec": {
   "display_name": "Python 2",
   "language": "python",
   "name": "python2"
  },
  "language_info": {
   "codemirror_mode": {
    "name": "ipython",
    "version": 2
   },
   "file_extension": ".py",
   "mimetype": "text/x-python",
   "name": "python",
   "nbconvert_exporter": "python",
   "pygments_lexer": "ipython2",
   "version": "2.7.11"
  }
 },
 "nbformat": 4,
 "nbformat_minor": 0
}
