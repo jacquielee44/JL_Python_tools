{
 "cells": [
  {
   "cell_type": "code",
   "execution_count": 1,
   "metadata": {
    "collapsed": false
   },
   "outputs": [],
   "source": [
    "import numpy as np\n",
    "import datetime as dtm\n",
    "import netCDF4 as nc\n",
    "import numpy.ma as ma\n",
    "import dateutil.parser as dparser\n",
    "import matplotlib.pyplot as plt\n",
    "import matplotlib.colors as colors\n",
    "import matplotlib.animation as animation\n"
   ]
  },
  {
   "cell_type": "code",
   "execution_count": 2,
   "metadata": {
    "collapsed": false
   },
   "outputs": [],
   "source": [
    "eps1 = np.load('/mnt/storage0/jacquielee/data/eps_ANHA4-EXH004_y2004m09d07.npy')\n",
    "tracers = nc.Dataset('/mnt/storage0/jacquielee/research/data/Jasper/ANHA4-EXH004_y2004m09d07_gridT.nc')\n",
    "sal = tracers.variables['vosaline'][0,:,:,:]\n",
    "depth = tracers.variables['deptht']\n",
    "\n",
    "eps0 = np.ma.masked_outside(eps1[:,:,:],0,100)\n",
    "\n",
    "eps00 = np.ma.filled(eps0,fill_value = 10**(-16))\n",
    "salinity = np.ma.masked_where(sal[:,:,:] == 0,sal)\n",
    "salmask = (ma.getmaskarray(salinity[:,:]))*1\n",
    "eps = ma.array(eps00,mask=salmask)"
   ]
  },
  {
   "cell_type": "code",
   "execution_count": 3,
   "metadata": {
    "collapsed": true
   },
   "outputs": [],
   "source": [
    "def make_figure(ax,cmap,depth,eps,grid):\n",
    "    cmap.set_bad('burlywood')\n",
    "    mesh = ax.pcolormesh(eps[grid,:,:],norm=colors.LogNorm(vmin=10**(-16), vmax=1),cmap=cmap)\n",
    "    cbar = fig.colorbar(mesh,ax=ax)\n",
    "    cbar.set_label('W/m^2')\n",
    "    plt.axis((0, eps.shape[2], 0, eps.shape[1]))\n",
    "    ax.grid()\n",
    "    text = ax.set_title('Turbulent Dissipation Rate at {d:.2f} m'.format(d=depth[grid]))\n",
    "    ax.set_xlabel('x Index')\n",
    "    ax.set_ylabel('y Index')\n",
    "    \n",
    "    plot_ob = {'CONT_OBJ':mesh,'TEXT_OBJ':text}\n",
    "    \n",
    "    return plot_ob"
   ]
  },
  {
   "cell_type": "code",
   "execution_count": 4,
   "metadata": {
    "collapsed": false
   },
   "outputs": [],
   "source": [
    "def update_figure(grid_ind,depth,ax,cmap,eps,PLOT_OBJS):\n",
    "#     for C in PLOT_OBJS['CONT_OBJ'].collections:\n",
    "#         C.remove()\n",
    "    del(PLOT_OBJS['CONT_OBJ'])\n",
    "    mesh = ax.pcolormesh(eps[grid_ind,:,:],norm=colors.LogNorm(vmin=10**(-16), vmax=1),cmap=cmap)\n",
    "    PLOT_OBJS['CONT_OBJ'] = mesh\n",
    "    PLOT_OBJS['TEXT_OBJ'].set_text('Turbulent Dissipation Rate at {d:.2f} m'.format(d=depth[grid_ind]))\n",
    "    \n",
    "    return PLOT_OBJS"
   ]
  },
  {
   "cell_type": "code",
   "execution_count": 5,
   "metadata": {
    "collapsed": false
   },
   "outputs": [],
   "source": [
    "z = np.arange(0,50)\n",
    "## create the time index\n",
    "startgrid = z[0]\n",
    "## create figure window\n",
    "fig, ax = plt.subplots(1,1,figsize=(10,10))\n",
    "## define colour map\n",
    "cmap = plt.get_cmap('jet')\n",
    "\n",
    "PLOT_OBJS = make_figure(ax,cmap,depth,eps,startgrid)\n",
    "\n",
    "#print(PLOT_OBJS['CONT_OBJ'].collections)\n",
    "def next_frame(t,PLOT_OBJS):\n",
    "    #print(t)\n",
    "    PLOT_OBJS = update_figure(t,depth,ax,cmap,eps,PLOT_OBJS)\n",
    "    return PLOT_OBJS\n",
    "\n",
    "\n",
    "#animate\n",
    "ANI = animation.FuncAnimation(fig, next_frame, fargs=[PLOT_OBJS],frames=50,repeat=False)\n",
    "plt.show()\n",
    "mywriter = animation.FFMpegWriter(fps=12,bitrate=10000)\n",
    "ANI.save('eps_animation1.mp4',writer=mywriter)"
   ]
  },
  {
   "cell_type": "code",
   "execution_count": null,
   "metadata": {
    "collapsed": true
   },
   "outputs": [],
   "source": []
  }
 ],
 "metadata": {
  "kernelspec": {
   "display_name": "Python 2",
   "language": "python",
   "name": "python2"
  },
  "language_info": {
   "codemirror_mode": {
    "name": "ipython",
    "version": 2
   },
   "file_extension": ".py",
   "mimetype": "text/x-python",
   "name": "python",
   "nbconvert_exporter": "python",
   "pygments_lexer": "ipython2",
   "version": "2.7.11"
  }
 },
 "nbformat": 4,
 "nbformat_minor": 0
}
