{
 "cells": [
  {
   "cell_type": "code",
   "execution_count": 2,
   "metadata": {
    "collapsed": true
   },
   "outputs": [],
   "source": [
    "# this module finds the coordinates of a given depth contour\n",
    "from __future__ import division, print_function\n",
    "\n",
    "import matplotlib.pyplot as plt\n",
    "import netCDF4 as nc\n",
    "import numpy as np\n",
    "import itertools\n",
    "\n",
    "from salishsea_tools import (\n",
    "    nc_tools,\n",
    "    viz_tools,\n",
    ")"
   ]
  },
  {
   "cell_type": "code",
   "execution_count": 3,
   "metadata": {
    "collapsed": true
   },
   "outputs": [],
   "source": [
    "%matplotlib inline"
   ]
  },
  {
   "cell_type": "code",
   "execution_count": 4,
   "metadata": {
    "collapsed": true
   },
   "outputs": [],
   "source": [
    "def iso_bathy(bathy,ist,jst,direction,ijend,thres,depth):\n",
    "    #Starting at (ist,jst) this function computes the gridpoints of the depth contour by iterating through points until ijend.\n",
    "    #At each iteration it calculates the maximum depth in a neighborhood of (i,j)\n",
    "    #bathy: an array of the bathymetry\n",
    "    #ist: an int that defines the starting i grid point\n",
    "    #jst: an int that defines the starting j grid point\n",
    "    #direction: a string either 'i' or 'j' indicating the direction of the iterations\n",
    "    #thres: an int defining the size of the neighbourhood.\n",
    "    \n",
    "    #returns thalweg: an array contatining the [j,i] thalweg gridpoints.\n",
    "    \n",
    "    if direction is 'i':\n",
    "    \n",
    "        #thres defines the search distance in the i-direction.\n",
    "        if ist<ijend:\n",
    "            thalweg=np.zeros((ijend-ist,2))\n",
    "            loop_start=ist+1; loop_end=ijend\n",
    "            forward=1; backward=0\n",
    "        else:\n",
    "            thalweg=np.zeros((ist-ijend,2)) \n",
    "            loop_start=0; loop_end=ist-ijend-1;\n",
    "            forward=0; backward=1;\n",
    "    \n",
    "        #find index of first maximum\n",
    "        bathmax=bathy[jst-thres:jst+thres,ist].max(); \n",
    "        ind= np.where(bathy[:,ist]==bathmax)\n",
    "        ls=0\n",
    "        while ind[0][ls]< jst-thres:\n",
    "            ls=ls+1\n",
    "        j=ind[0][ls]\n",
    "        arr_ind=0*forward + (ist-ijend-1)*backward;  \n",
    "        thalweg[arr_ind,0]=j\n",
    "        thalweg[arr_ind,1]=ist\n",
    "\n",
    "        #for loop for finding the thalweg\n",
    "        for k in range (loop_start,loop_end):\n",
    "            loop_ind = k*forward + (ist-k)*backward;\n",
    "            bathmax=bathy[j-thres:j+thres,loop_ind].max();\n",
    "            ind= np.where(bathy[:,loop_ind]==bathmax)\n",
    "            ls=0\n",
    "            while ind[0][ls]< j-thres:\n",
    "                ls=ls+1\n",
    "            j=ind[0][ls]\n",
    "            arr_ind=(k-ist)*forward + (loop_end-k-1)*backward;  \n",
    "            thalweg[arr_ind,0]=j\n",
    "            thalweg[arr_ind,1]=loop_ind;\n",
    "            \n",
    "    elif direction is 'j':\n",
    "    \n",
    "        #thres defines the search distance in the j-direction.\n",
    "        if jst<ijend:\n",
    "            thalweg=np.zeros((ijend-jst,2))\n",
    "            loop_start=jst+1; loop_end=ijend\n",
    "            forward=1; backward=0\n",
    "        else:\n",
    "            thalweg=np.zeros((jst-ijend,2)) \n",
    "            loop_start=0; loop_end=jst-ijend-1;\n",
    "            forward=0; backward=1;\n",
    "    \n",
    "        #find index of first maximum\n",
    "        bathmax=bathy[jst,ist-thres:ist+thres].max(); \n",
    "        ind= np.where(bathy[jst,:]==bathmax)\n",
    "        ls=0\n",
    "        while ind[0][ls]< ist-thres:\n",
    "            ls=ls+1\n",
    "        i=ind[0][ls]\n",
    "        arr_ind=0*forward + (jst-ijend-1)*backward;  \n",
    "        thalweg[arr_ind,0]=jst\n",
    "        thalweg[arr_ind,1]=i\n",
    "\n",
    "        #for loop for finding the thalweg\n",
    "        for k in range (loop_start,loop_end):\n",
    "            loop_ind = k*forward + (jst-k)*backward;\n",
    "            bathmax=bathy[loop_ind,i-thres:i+thres].max();\n",
    "            ind= np.where(bathy[loop_ind,:]==bathmax)\n",
    "            ls=0\n",
    "            while ind[0][ls]< i-thres:\n",
    "                ls=ls+1\n",
    "            i=ind[0][ls]\n",
    "            arr_ind=(k-jst)*forward + (loop_end-k-1)*backward;  \n",
    "            thalweg[arr_ind,0]=loop_ind\n",
    "            thalweg[arr_ind,1]=i;\n",
    "            \n",
    "    else:\n",
    "        return 'Error'\n",
    "    \n",
    "    return thalweg"
   ]
  },
  {
   "cell_type": "code",
   "execution_count": null,
   "metadata": {
    "collapsed": true
   },
   "outputs": [],
   "source": []
  }
 ],
 "metadata": {
  "kernelspec": {
   "display_name": "Python 2",
   "language": "python",
   "name": "python2"
  },
  "language_info": {
   "codemirror_mode": {
    "name": "ipython",
    "version": 2
   },
   "file_extension": ".py",
   "mimetype": "text/x-python",
   "name": "python",
   "nbconvert_exporter": "python",
   "pygments_lexer": "ipython2",
   "version": "2.7.11"
  }
 },
 "nbformat": 4,
 "nbformat_minor": 0
}
