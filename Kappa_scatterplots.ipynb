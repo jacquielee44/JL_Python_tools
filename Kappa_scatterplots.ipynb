{
 "cells": [
  {
   "cell_type": "code",
   "execution_count": 1,
   "metadata": {
    "collapsed": true,
    "scrolled": true
   },
   "outputs": [],
   "source": [
    "from __future__ import division, print_function\n",
    "import matplotlib.pyplot as plt\n",
    "import netCDF4 as nc\n",
    "import numpy as np\n",
    "import numpy.ma as ma\n",
    "import matplotlib.colors as colors\n",
    "import matplotlib.colors as colors\n",
    "%matplotlib inline"
   ]
  },
  {
   "cell_type": "code",
   "execution_count": null,
   "metadata": {
    "collapsed": false,
    "scrolled": true
   },
   "outputs": [],
   "source": [
    "#clim = nc.Dataset('/ocean/jthibaul/research/data/hittite/E_climatology.nc')"
   ]
  },
  {
   "cell_type": "code",
   "execution_count": null,
   "metadata": {
    "collapsed": false,
    "scrolled": true
   },
   "outputs": [],
   "source": [
    "#E = clim.variables['E']"
   ]
  },
  {
   "cell_type": "code",
   "execution_count": null,
   "metadata": {
    "collapsed": true,
    "scrolled": true
   },
   "outputs": [],
   "source": [
    "#zdftmx = nc.Dataset('/ocean/jthibaul/research/data/hittite/zdftmx_check.nc')"
   ]
  },
  {
   "cell_type": "code",
   "execution_count": null,
   "metadata": {
    "collapsed": true,
    "scrolled": true
   },
   "outputs": [],
   "source": [
    "#H = zdftmx.variables['nav_lev'][:]"
   ]
  },
  {
   "cell_type": "code",
   "execution_count": 2,
   "metadata": {
    "collapsed": false,
    "scrolled": true
   },
   "outputs": [],
   "source": [
    "mesh = nc.Dataset('/mnt/storage0/xhu/ANHA4-I/mesh_mask_anha4_201509.nc')"
   ]
  },
  {
   "cell_type": "code",
   "execution_count": 3,
   "metadata": {
    "collapsed": true,
    "scrolled": true
   },
   "outputs": [],
   "source": [
    "mask = mesh.variables['tmask'][0]"
   ]
  },
  {
   "cell_type": "code",
   "execution_count": 4,
   "metadata": {
    "collapsed": true,
    "scrolled": true
   },
   "outputs": [],
   "source": [
    "e1t= mesh.variables['e1t'][0,:,:]  # dx\n",
    "e2t= mesh.variables['e2t'][0,:,:]  # dy \n",
    "e3t= mesh.variables['e3t'][0,:,:,:]\n",
    "dep = mesh.variables['gdept_0'][0,:]"
   ]
  },
  {
   "cell_type": "code",
   "execution_count": 5,
   "metadata": {
    "collapsed": true,
    "scrolled": true
   },
   "outputs": [],
   "source": [
    "volume=e1t*e2t*e3t"
   ]
  },
  {
   "cell_type": "code",
   "execution_count": 12,
   "metadata": {
    "collapsed": true
   },
   "outputs": [],
   "source": [
    "date = 'y2011m01d05'"
   ]
  },
  {
   "cell_type": "code",
   "execution_count": 13,
   "metadata": {
    "collapsed": true,
    "scrolled": true
   },
   "outputs": [],
   "source": [
    "grid = nc.Dataset('/mnt/storage0/jacquielee/research/data/ANHA4-VJT002/ANHA4-VJT002_y2011m01d05_gridW.nc')"
   ]
  },
  {
   "cell_type": "code",
   "execution_count": 14,
   "metadata": {
    "collapsed": true,
    "scrolled": true
   },
   "outputs": [],
   "source": [
    "grid2 = nc.Dataset('/mnt/storage0/jacquielee/research/data/ANHA4-VJT003/ANHA4-VJT003_y2011m01d05_gridW.nc')"
   ]
  },
  {
   "cell_type": "code",
   "execution_count": 15,
   "metadata": {
    "collapsed": false,
    "scrolled": true
   },
   "outputs": [],
   "source": [
    "grid3 = nc.Dataset('/mnt/storage0/xhu/NEMO/ANHA4-EXH005/ANHA4-EXH005_y2011m01d05_gridW.nc')"
   ]
  },
  {
   "cell_type": "code",
   "execution_count": 10,
   "metadata": {
    "collapsed": false,
    "scrolled": true
   },
   "outputs": [],
   "source": [
    "tracer = nc.Dataset('/mnt/storage0/jacquielee/research/data/ANHA4-VJT002/ANHA4-VJT002_y2011m01d05_gridT.nc')\n",
    "tracer2 = nc.Dataset('/mnt/storage0/jacquielee/research/data/ANHA4-VJT003/ANHA4-VJT003_y2011m01d05_gridT.nc')\n",
    "tracer3 = nc.Dataset('/mnt/storage0/xhu/NEMO/ANHA4-EXH005/ANHA4-EXH005_y2011m01d05_gridT.nc')"
   ]
  },
  {
   "cell_type": "code",
   "execution_count": 16,
   "metadata": {
    "collapsed": true,
    "scrolled": true
   },
   "outputs": [],
   "source": [
    "lat = grid.variables['nav_lat']\n",
    "lon = grid.variables['nav_lon']\n",
    "H = grid.variables['depthw']"
   ]
  },
  {
   "cell_type": "code",
   "execution_count": 11,
   "metadata": {
    "collapsed": false,
    "scrolled": true
   },
   "outputs": [],
   "source": [
    "sal=tracer.variables['vosaline'][0,:,:,:]\n",
    "temp = tracer.variables['votemper'][0,:,:,:]\n",
    "sal2=tracer2.variables['vosaline'][0,:,:,:]\n",
    "temp2 = tracer2.variables['votemper'][0,:,:,:]\n",
    "sal3=tracer3.variables['vosaline'][0,:,:,:]\n",
    "temp3 = tracer3.variables['votemper'][0,:,:,:]"
   ]
  },
  {
   "cell_type": "code",
   "execution_count": 17,
   "metadata": {
    "collapsed": false,
    "scrolled": true
   },
   "outputs": [],
   "source": [
    "import gsw"
   ]
  },
  {
   "cell_type": "code",
   "execution_count": 18,
   "metadata": {
    "collapsed": true,
    "scrolled": true
   },
   "outputs": [],
   "source": [
    "kappa = grid.variables['votkeavt'][0,:,:,:]\n",
    "kappa2 = grid2.variables['votkeavt'][0,:,:,:]\n",
    "kappa3 = grid3.variables['votkeavt'][0,:,:,:]"
   ]
  },
  {
   "cell_type": "code",
   "execution_count": 19,
   "metadata": {
    "collapsed": true,
    "scrolled": true
   },
   "outputs": [],
   "source": [
    "ktidalslj = grid.variables['votkeavtidal']\n",
    "ktidalp = grid2.variables['votkeavtidal']"
   ]
  },
  {
   "cell_type": "code",
   "execution_count": 18,
   "metadata": {
    "collapsed": false
   },
   "outputs": [],
   "source": [
    "ngrid = nc.Dataset('/mnt/storage0/jacquielee/research/data/ANHA4-VJT002/ANHA4-VJT002_'+date+'_nsquare.nc')\n",
    "ngrid2 = nc.Dataset('/mnt/storage0/jacquielee/research/data/ANHA4-VJT003/ANHA4-VJT003_'+date+'_nsquare.nc')\n",
    "ngrid3 = nc.Dataset('/mnt/storage0/jacquielee/research/data/ANHA4-EXH005/ANHA4-EXH005_'+date+'_nsquare.nc')\n",
    "nsq = ngrid.variables['nsquare']\n",
    "nsq2 = ngrid2.variables['nsquare']\n",
    "nsq3 = ngrid3.variables['nsquare']"
   ]
  },
  {
   "cell_type": "code",
   "execution_count": 7,
   "metadata": {
    "collapsed": false,
    "scrolled": true
   },
   "outputs": [],
   "source": [
    "# count910 = 0\n",
    "# count9102 = 0\n",
    "# for i in np.arange(0,len(kappa[0,:,0])):\n",
    "#     for j in np.arange(0,len(kappa[0,0,:])):\n",
    "#         for k in np.arange(0,len(kappa[:,0,0])):\n",
    "#             if kappa[k,i,j] > 0.01:\n",
    "#                 count910 = count910 +1\n",
    "#                 kappa[k,i,j] = np.nan\n",
    "#             if kappa[k,i,j] > 0.009:\n",
    "#                 count9102 = count9102 +1"
   ]
  },
  {
   "cell_type": "code",
   "execution_count": 8,
   "metadata": {
    "collapsed": false,
    "scrolled": true
   },
   "outputs": [],
   "source": [
    "# count510 = 0\n",
    "# count5102 = 0\n",
    "# for i in np.arange(0,len(kappa2[0,:,0])):\n",
    "#     for j in np.arange(0,len(kappa2[0,0,:])):\n",
    "#         for k in np.arange(0,len(kappa2[:,0,0])):\n",
    "#             if kappa2[k,i,j] > 0.01:\n",
    "#                 count510 = count510 +1\n",
    "#                 kappa2[k,i,j] = np.nan\n",
    "#             if kappa2[k,i,j] > 0.009:\n",
    "#                 count5102 = count5102 +1"
   ]
  },
  {
   "cell_type": "code",
   "execution_count": 9,
   "metadata": {
    "collapsed": true,
    "scrolled": true
   },
   "outputs": [],
   "source": [
    "# count310 = 0\n",
    "# count3102 = 0\n",
    "# for i in np.arange(0,len(kappa3[0,:,0])):\n",
    "#     for j in np.arange(0,len(kappa3[0,0,:])):\n",
    "#         for k in np.arange(0,len(kappa3[:,0,0])):\n",
    "#             if kappa3[k,i,j] > 0.01:\n",
    "#                 count310 = count310 +1\n",
    "#                 kappa3[k,i,j] = np.nan\n",
    "#             if kappa3[k,i,j] > 0.009:\n",
    "#                 count3102 = count3102 +1"
   ]
  },
  {
   "cell_type": "code",
   "execution_count": null,
   "metadata": {
    "collapsed": false,
    "scrolled": true
   },
   "outputs": [],
   "source": [
    "count910"
   ]
  },
  {
   "cell_type": "code",
   "execution_count": 15,
   "metadata": {
    "collapsed": false,
    "scrolled": true
   },
   "outputs": [
    {
     "name": "stdout",
     "output_type": "stream",
     "text": [
      "0\n",
      "1\n",
      "2\n",
      "3\n",
      "4\n",
      "5\n",
      "6\n",
      "7\n",
      "8\n",
      "9\n",
      "10\n",
      "11\n",
      "12\n",
      "13\n",
      "14\n",
      "15\n",
      "16\n",
      "17\n",
      "18\n",
      "19\n",
      "20\n",
      "21\n",
      "22\n",
      "23\n",
      "24\n",
      "25\n",
      "26\n",
      "27\n",
      "28\n",
      "29\n",
      "30\n",
      "31\n",
      "32\n",
      "33\n",
      "34\n",
      "35\n",
      "36\n",
      "37\n",
      "38\n",
      "39\n",
      "40\n",
      "41\n",
      "42\n",
      "43\n",
      "44\n",
      "45\n",
      "46\n",
      "47\n",
      "48\n",
      "49\n"
     ]
    }
   ],
   "source": [
    "p = np.zeros_like(sal,dtype=np.dtype('f8'))\n",
    "#p2 = np.zeros_like(sal2,dtype=np.dtype('f8'))\n",
    "\n",
    "for dep in np.arange(0,len(H)):\n",
    "    print(dep)\n",
    "    for j in np.arange(0,len(sal[0,:])):\n",
    "         p[dep,j,:] = gsw.p_from_z(H[dep],lat[j,250])\n",
    "    #p2[dep,j,:] = gsw.p_from_z(H[dep],lat[j,250])"
   ]
  },
  {
   "cell_type": "code",
   "execution_count": null,
   "metadata": {
    "collapsed": false,
    "scrolled": true
   },
   "outputs": [
    {
     "name": "stdout",
     "output_type": "stream",
     "text": [
      "0\n"
     ]
    }
   ],
   "source": [
    "# nsquare = np.zeros_like(p,dtype=np.dtype('f8'))\n",
    "# nsquare2 = np.zeros_like(p,dtype=np.dtype('f8'))\n",
    "# nsquare3 = np.zeros_like(p,dtype=np.dtype('f8'))\n",
    "# # for dep in z:\n",
    "# #     print(dep)\n",
    "# for i in np.arange(0,len(sal[0,:,0])):\n",
    "#     print(i)\n",
    "#     for j in np.arange(0,len(sal[0,0,:])):\n",
    "        \n",
    "#         nsquare[1:,i,j],p_mid = gsw.Nsquared(sal[:,i,j],temp[:,i,j],p[:,i,j],lat[j,250])\n",
    "#         nsquare2[1:,i,j],p_mid = gsw.Nsquared(sal2[:,i,j],temp2[:,i,j],p[:,i,j],lat[j,250]) \n",
    "#         nsquare3[1:,i,j],p_mid = gsw.Nsquared(sal3[:,i,j],temp3[:,i,j],p[:,i,j],lat[j,250]) "
   ]
  },
  {
   "cell_type": "code",
   "execution_count": null,
   "metadata": {
    "collapsed": false,
    "scrolled": true
   },
   "outputs": [],
   "source": [
    "# nsquare.dump('n2VJT002_110105.npy')\n",
    "# nsquare2.dump('n2VJT003_110105.npy')\n",
    "# nsquare3.dump('n2EXH005_110105.npy')\n"
   ]
  },
  {
   "cell_type": "code",
   "execution_count": 78,
   "metadata": {
    "collapsed": false,
    "scrolled": true
   },
   "outputs": [],
   "source": [
    "# nsquare = np.load('n2VJT002_110105.npy')\n",
    "# nsquare2 = np.load('n2VJT003_110105.npy')\n",
    "# nsquare3 = np.load('n2EXH005_110105.npy')"
   ]
  },
  {
   "cell_type": "code",
   "execution_count": 7,
   "metadata": {
    "collapsed": false
   },
   "outputs": [],
   "source": [
    "grid = nc.Dataset(\"/mnt/storage0/jacquielee/research/data/ANHA4-EXH005/ANHA4-EXH005_y2008m01d05_nsquare.nc\")"
   ]
  },
  {
   "cell_type": "code",
   "execution_count": 12,
   "metadata": {
    "collapsed": true
   },
   "outputs": [],
   "source": [
    "nsquare = grid.variables['nsquare']"
   ]
  },
  {
   "cell_type": "code",
   "execution_count": 13,
   "metadata": {
    "collapsed": false
   },
   "outputs": [],
   "source": [
    "nsquare2= nsquare\n",
    "nsquare3 = nsquare"
   ]
  },
  {
   "cell_type": "code",
   "execution_count": null,
   "metadata": {
    "collapsed": true,
    "scrolled": true
   },
   "outputs": [],
   "source": [
    "kappa1D = kappa.ravel()\n",
    "kappa1D2 = kappa2.ravel()\n",
    "kappa1D3 = kappa3.ravel()\n",
    "nsq1D = nsquare.ravel()\n",
    "nsq1D2 = nsquare2.ravel()\n",
    "nsq1D3 = nsquare3.ravel()"
   ]
  },
  {
   "cell_type": "code",
   "execution_count": null,
   "metadata": {
    "collapsed": false,
    "scrolled": true
   },
   "outputs": [],
   "source": [
    "kappa1D = np.ma.masked_invalid(kappa1D)\n",
    "kappa1D2 = np.ma.masked_invalid(kappa1D2)\n",
    "kappa1D3 = np.ma.masked_invalid(kappa1D3)"
   ]
  },
  {
   "cell_type": "code",
   "execution_count": null,
   "metadata": {
    "collapsed": false,
    "scrolled": true
   },
   "outputs": [],
   "source": [
    "k_corr = np.ma.corrcoef(nsq1D,nsq1D2)"
   ]
  },
  {
   "cell_type": "code",
   "execution_count": null,
   "metadata": {
    "collapsed": false,
    "scrolled": true
   },
   "outputs": [],
   "source": [
    "k_corr[0,1]"
   ]
  },
  {
   "cell_type": "code",
   "execution_count": null,
   "metadata": {
    "collapsed": false,
    "scrolled": true
   },
   "outputs": [],
   "source": [
    "colour = nsq1D[0:-1:1]\n",
    "minimum_log_level = 10**(-10)\n",
    "maximum_scale_level = colour.max()\n",
    "norm = colors.SymLogNorm(vmin=-maximum_scale_level,\n",
    "                                 vmax=maximum_scale_level,linthresh=minimum_log_level,linscale=0)\n",
    "\n",
    "plt.scatter(kappa1D2[0:-1:1],kappa1D3[0:-1:1], marker='+', c=colour, s=150, cmap=plt.cm.bwr,norm=norm)\n",
    "\n",
    "ticks=[10**(-2),10**(-4),10**(-6),10**(-8),10**(-10),-10**(-8),-10**(-6),-10**(-4),-10**(-2)]\n",
    "labels = ['10^-2','10^-4','10^-6','10^-8)','+/-10^-10','-10^-8','-10^-6','-10^-4','-10^-2']\n",
    "\n",
    "bar = plt.colorbar( orientation='vertical', extend='both',label='N2')\n",
    "bar.set_ticks(ticks,labels)\n",
    "ticks[4] = r'$\\pm${:g}'.format(minimum_log_level)\n",
    "bar.set_ticklabels(labels)\n",
    "\n",
    "plt.yscale('log')\n",
    "plt.xscale('log')\n",
    "\n",
    "plt.axis((10**(-6),10**(-2) , 10**(-6), 10**(-2)))\n",
    "plt.xlabel('K Polzin')\n",
    "plt.ylabel('K control Run')\n",
    "#plt.title('Correlation = {d:.3f}'.format(d=k_corr[0,1]))\n",
    "#plt.scatter(kappa1D[0:-1:10000],kappa1D2[0:-1:10000])\n",
    "plt.show()"
   ]
  },
  {
   "cell_type": "code",
   "execution_count": null,
   "metadata": {
    "collapsed": true,
    "scrolled": true
   },
   "outputs": [],
   "source": [
    "n2_corr = np.corrcoef(nsq1D,nsq1D2)"
   ]
  },
  {
   "cell_type": "code",
   "execution_count": null,
   "metadata": {
    "collapsed": false,
    "scrolled": true
   },
   "outputs": [],
   "source": [
    "plt.scatter(nsq1D,nsq1D2)\n",
    "plt.xlabel('N2 EXH009')\n",
    "plt.ylabel('N2 EXH005')\n",
    "plt.title('Correlation = {d:.3f}'.format(d=n2_corr[0,1]))\n",
    "plt.show()"
   ]
  },
  {
   "cell_type": "code",
   "execution_count": null,
   "metadata": {
    "collapsed": false,
    "scrolled": true
   },
   "outputs": [],
   "source": [
    "h2grid = nc.Dataset('/ocean/jthibaul/data/hsquare.nc')"
   ]
  },
  {
   "cell_type": "code",
   "execution_count": null,
   "metadata": {
    "collapsed": false,
    "scrolled": true
   },
   "outputs": [],
   "source": [
    "hsquare = h2grid.variables['hsquare']"
   ]
  },
  {
   "cell_type": "code",
   "execution_count": null,
   "metadata": {
    "collapsed": false,
    "scrolled": true
   },
   "outputs": [],
   "source": [
    "for i in np.arange(0,len(hsquare[:,0])):\n",
    "    for j in np.arange(0,len(hsquare[0,:])):\n",
    "        if hsquare[i,j] == -1.0:\n",
    "            hsquare[i,j] = 10**(-5)"
   ]
  },
  {
   "cell_type": "code",
   "execution_count": null,
   "metadata": {
    "collapsed": false,
    "scrolled": true
   },
   "outputs": [],
   "source": [
    "#h2 = np.repeat(hsquare[np.newaxis,:,:], 50, axis=0)\n",
    "\n",
    "H2 = np.ones_like(nsquare)\n",
    "\n",
    "for k in np.arange(0,len(nsquare[:,0,0])):\n",
    "    H2[k,:,:] = hsquare[:,:]\n",
    "\n"
   ]
  },
  {
   "cell_type": "code",
   "execution_count": null,
   "metadata": {
    "collapsed": false,
    "scrolled": true
   },
   "outputs": [],
   "source": [
    "h21D = np.ravel(H2)"
   ]
  },
  {
   "cell_type": "code",
   "execution_count": null,
   "metadata": {
    "collapsed": false,
    "scrolled": true
   },
   "outputs": [],
   "source": [
    "np.corrcoef(nsq1D,nsq1D2)"
   ]
  },
  {
   "cell_type": "code",
   "execution_count": null,
   "metadata": {
    "collapsed": false,
    "scrolled": true
   },
   "outputs": [],
   "source": [
    "colour = h21D[0:-1:1]\n",
    "minimum_log_level = 10**(-5)\n",
    "maximum_scale_level = colour.max()\n",
    "norm = colors.LogNorm(vmin=minimum_log_level,\n",
    "                                 vmax=maximum_scale_level)\n",
    "\n",
    "plt.scatter(kappa1D2[0:-1:1],kappa1D3[0:-1:1], marker='+', c=colour, s=150, cmap=plt.cm.jet,norm=norm)\n",
    "bar = plt.colorbar( orientation='vertical', extend='both',label='h2')\n",
    "\n",
    "#plt.scatter(kappa1D[0:-1:10000],kappa1D2[0:-1:10000])\n",
    "\n",
    "\n",
    "# ticks=[10**(-2),10**(-4),10**(-6),10**(-8),10**(-10),-10**(-8),-10**(-6),-10**(-4),-10**(-2)]\n",
    "# labels = ['10^-2','10^-4','10^-6','10^-8)','+/-10^-10','-10^-8','-10^-6','-10^-4','-10^-2']\n",
    "\n",
    "# bar = plt.colorbar( orientation='vertical', extend='both',label='N2')\n",
    "# bar.set_ticks(ticks,labels)\n",
    "# ticks[4] = r'$\\pm${:g}'.format(minimum_log_level)\n",
    "# bar.set_ticklabels(labels)\n",
    "\n",
    "plt.yscale('log')\n",
    "plt.xscale('log')\n",
    "\n",
    "plt.axis((10**(-6),10**(-2) , 10**(-6), 10**(-2)))\n",
    "plt.xlabel('K Polzin')\n",
    "plt.ylabel('K control Run')\n",
    "\n",
    "#plt.scatter(kappa1D[0:-1:10000],kappa1D2[0:-1:10000])\n",
    "plt.show()"
   ]
  },
  {
   "cell_type": "code",
   "execution_count": null,
   "metadata": {
    "collapsed": false,
    "scrolled": true
   },
   "outputs": [],
   "source": [
    "\n",
    "E2 = np.ones_like(nsquare)\n",
    "\n",
    "for k in np.arange(0,len(nsquare[:,0,0])):\n",
    "    E2[k,:,:] = E[:,:]\n",
    "\n"
   ]
  },
  {
   "cell_type": "code",
   "execution_count": null,
   "metadata": {
    "collapsed": false,
    "scrolled": true
   },
   "outputs": [],
   "source": [
    "E1D = np.ravel(E2)"
   ]
  },
  {
   "cell_type": "code",
   "execution_count": null,
   "metadata": {
    "collapsed": false,
    "scrolled": true
   },
   "outputs": [],
   "source": [
    "E1D.min()"
   ]
  },
  {
   "cell_type": "code",
   "execution_count": null,
   "metadata": {
    "collapsed": false,
    "scrolled": true
   },
   "outputs": [],
   "source": [
    "colour = E1D[0:-1:1]\n",
    "minimum_log_level = 10**(-5)\n",
    "maximum_scale_level = 10**-2\n",
    "norm = colors.LogNorm(vmin=minimum_log_level,\n",
    "                                 vmax=maximum_scale_level)\n",
    "\n",
    "plt.scatter(kappa1D[0:-1:1],kappa1D3[0:-1:1], marker='+', c=colour, s=150, cmap=plt.cm.jet,norm=norm)\n",
    "bar = plt.colorbar( orientation='vertical', extend='both',label='E(x,y)')\n",
    "\n",
    "plt.yscale('log')\n",
    "plt.xscale('log')\n",
    "\n",
    "plt.axis((10**(-6),10**(-2) , 10**(-6), 10**(-2)))\n",
    "plt.xlabel('K St Laurent and Jayne')\n",
    "plt.ylabel('K control Run')\n",
    "\n",
    "#plt.scatter(kappa1D[0:-1:10000],kappa1D2[0:-1:10000])\n",
    "plt.show()"
   ]
  },
  {
   "cell_type": "markdown",
   "metadata": {},
   "source": [
    "Now Compute global average of kappa by depth"
   ]
  },
  {
   "cell_type": "code",
   "execution_count": 20,
   "metadata": {
    "collapsed": true,
    "scrolled": true
   },
   "outputs": [],
   "source": [
    "kappa = np.ma.masked_invalid(kappa)\n",
    "kappa2 = np.ma.masked_invalid(kappa2)\n",
    "kappa3 = np.ma.masked_invalid(kappa3)"
   ]
  },
  {
   "cell_type": "code",
   "execution_count": 20,
   "metadata": {
    "collapsed": false,
    "scrolled": true
   },
   "outputs": [],
   "source": [
    "nsquare = ma.array(nsq,mask=(mask-1)*1)\n",
    "nsquare2 = ma.array(nsq2,mask=(mask-1)*1)\n",
    "nsquare3 = ma.array(nsq3,mask=(mask-1)*1)"
   ]
  },
  {
   "cell_type": "code",
   "execution_count": 21,
   "metadata": {
    "collapsed": true,
    "scrolled": true
   },
   "outputs": [],
   "source": [
    "ktidalslj = np.ma.masked_invalid(ktidalslj[0])\n",
    "ktidalp = np.ma.masked_invalid(ktidalp[0])"
   ]
  },
  {
   "cell_type": "code",
   "execution_count": 22,
   "metadata": {
    "collapsed": true,
    "scrolled": true
   },
   "outputs": [],
   "source": [
    "def interpolate_to_T(var):\n",
    "    '''\n",
    "    interpolate variable on w grid to T grid\n",
    "    '''\n",
    "    var_new = np.zeros_like(var)\n",
    "    var_new[-1.:,:] = var[-1,:,:]\n",
    "    #now interpolate\n",
    "    var_new[0:-1,:,:] = (var[0:-1,:,:]+var[1:,:,:])/2\n",
    "    \n",
    "    return var_new\n"
   ]
  },
  {
   "cell_type": "code",
   "execution_count": 23,
   "metadata": {
    "collapsed": false
   },
   "outputs": [],
   "source": [
    "#interpolate onto t-grid to use volume weighting\n",
    "ckappa = interpolate_to_T(kappa3)\n",
    "pkappa = interpolate_to_T(kappa2)\n",
    "sjkappa = interpolate_to_T(kappa)"
   ]
  },
  {
   "cell_type": "code",
   "execution_count": 24,
   "metadata": {
    "collapsed": true
   },
   "outputs": [],
   "source": [
    "ktidalslj = interpolate_to_T(ktidalslj)\n",
    "ktidalp = interpolate_to_T(ktidalp)"
   ]
  },
  {
   "cell_type": "code",
   "execution_count": 25,
   "metadata": {
    "collapsed": true
   },
   "outputs": [],
   "source": [
    "#nsquare already on T-grid\n",
    "cnsquare = nsquare3\n",
    "pnsquare = nsquare2\n",
    "sjnsquare = nsquare"
   ]
  },
  {
   "cell_type": "code",
   "execution_count": 26,
   "metadata": {
    "collapsed": true,
    "scrolled": true
   },
   "outputs": [],
   "source": [
    "def log_mean(var,kappa=False):\n",
    "\n",
    "    var_new = np.zeros((50))\n",
    "\n",
    "    for k in np.arange(0,len(var[:,0,0])):\n",
    "        print(k)\n",
    "        counter = 0.0\n",
    "        tot = 0.0\n",
    "\n",
    "        for i in np.arange(0,len(var[0,:,0])):\n",
    "            for j in np.arange(0,len(var[0,0,:])):\n",
    "                \n",
    "                if kappa == True:\n",
    "                    if ma.is_masked(var[k,i,j]) == False and var[k,i,j]<=10**-2:\n",
    "                            counter = counter+volume[k,i,j]\n",
    "                            tot = tot + np.log(var[k,i,j])*volume[k,i,j]\n",
    "                else:\n",
    "                    if ma.is_masked(var[k,i,j]) == False:\n",
    "                            counter = counter+volume[k,i,j]\n",
    "                            tot = tot + np.log(var[k,i,j])*volume[k,i,j]\n",
    "\n",
    "        if counter!= 0:\n",
    "            var_new[k] = np.exp(tot/counter)\n",
    "            \n",
    "    return var_new\n",
    "\n",
    "def arith_mean(var, kappa=False):\n",
    "    var_new = np.zeros((50))\n",
    "\n",
    "    for k in np.arange(0,len(var[:,0,0])):\n",
    "        print(k)\n",
    "        counter = 0.0\n",
    "        tot = 0.0\n",
    "\n",
    "        for i in np.arange(0,len(var[0,:,0])):\n",
    "            for j in np.arange(0,len(var[0,0,:])):\n",
    "                \n",
    "                if kappa == True:\n",
    "                    if ma.is_masked(var[k,i,j]) == False and var[k,i,j]<=10**-2:\n",
    "                            counter = counter+volume[k,i,j]\n",
    "                            tot = tot + var[k,i,j]*volume[k,i,j]\n",
    "                else:\n",
    "                    if ma.is_masked(var[k,i,j]) == False:\n",
    "                            counter = counter+volume[k,i,j]\n",
    "                            tot = tot + var[k,i,j]*volume[k,i,j]\n",
    "\n",
    "        if counter!= 0:\n",
    "            var_new[k] = tot/counter\n",
    "            \n",
    "    return var_new"
   ]
  },
  {
   "cell_type": "code",
   "execution_count": 64,
   "metadata": {
    "collapsed": false
   },
   "outputs": [],
   "source": [
    "#function for remake array to be distance from bottom\n",
    "#find bottom most cell for each vertical profile and set to 0\n",
    "#for each subsequent cell calculate distance using zlevels \n",
    "#based on depth of individual profile - each will have different resolution so a 3D grid of distance from\n",
    "#bottom will also be needed\n",
    "def depth_from_bottom(var):\n",
    "    dfb_var = np.zeros_like(var)\n",
    "    dfb = np.zeros_like(var)\n",
    "\n",
    "    for ii in np.arange(0,len(var[0,:,0])):\n",
    "        for jj in np.arange(0,len(var[0,0,:])):\n",
    "            dfbcount = 0\n",
    "            for kk in np.arange(49,-1,-1):\n",
    "                if ma.is_masked(var[kk,ii,jj]):\n",
    "                    continue\n",
    "                else:\n",
    "                    dfb_var[dfbcount,ii,jj] = var[kk,ii,jj]\n",
    "                    if dfbcount == 0:\n",
    "                        dfb[kk,ii,jj] = 0.0\n",
    "                        bottom = H[kk]\n",
    "                    else: \n",
    "                        dfb[dfbcount,ii,jj] = bottom-H[kk]\n",
    "                    dfbcount = dfbcount+1\n",
    "    \n",
    "    print('completed')\n",
    "    return dfb_var, dfb\n",
    "                \n",
    "                "
   ]
  },
  {
   "cell_type": "code",
   "execution_count": 68,
   "metadata": {
    "collapsed": false
   },
   "outputs": [
    {
     "name": "stdout",
     "output_type": "stream",
     "text": [
      "completed\n",
      "completed\n",
      "completed\n"
     ]
    }
   ],
   "source": [
    "dfb_kappa, dfbk = depth_from_bottom(kappa)\n",
    "dfb_kappa2, dfbk = depth_from_bottom(kappa2)\n",
    "dfb_kappa3, dfbk = depth_from_bottom(kappa3)\n"
   ]
  },
  {
   "cell_type": "code",
   "execution_count": 66,
   "metadata": {
    "collapsed": false
   },
   "outputs": [
    {
     "name": "stdout",
     "output_type": "stream",
     "text": [
      "[0.006020124536007643 0.005940636619925499 0.0032764049246907234\n",
      " 0.0011611439986154437 0.00043598285992629826 0.000167331745615229\n",
      " 8.371898729819804e-05 4.170695319771767e-05 2.5223127522622235e-05\n",
      " 1.852075911301654e-05 1.479693401051918e-05 1.0468525942997076e-05\n",
      " 6.453825335483998e-06 4.971159341948805e-06 5.154007340024691e-06\n",
      " 5.058786882727873e-06 4.250880465406226e-06 4.1486905502097216e-06\n",
      " 3.918137281289091e-06 3.83098449674435e-06 2.2446711227530614e-06\n",
      " 1.0516562269913265e-06 1.0255151892124559e-06 1.020583908939443e-06\n",
      " 1.02383341982204e-06 1.123284505410993e-06 2.5754992961883545\n",
      " 5.026871681213379 3.1524603366851807 3.678300142288208 2.6286275386810303\n",
      " 2.827584981918335 3.4020729064941406 4.101637840270996 4.551519393920898\n",
      " 5.0512824058532715 5.301260471343994 5.5262603759765625 5.801287651062012\n",
      " 6.151244163513184 6.276212215423584 6.4761176109313965 6.7010579109191895\n",
      " 7.126140594482422 0.001078062690794468 -- -- -- -- --]\n",
      "[0.001078062690794468 7.126140594482422 6.7010579109191895\n",
      " 6.4761176109313965 6.276212215423584 6.151244163513184 5.801287651062012\n",
      " 5.5262603759765625 5.301260471343994 5.0512824058532715 4.551519393920898\n",
      " 4.101637840270996 3.4020729064941406 2.827584981918335 2.6286275386810303\n",
      " 3.678300142288208 3.1524603366851807 5.026871681213379 2.5754992961883545\n",
      " 1.123284505410993e-06 1.02383341982204e-06 1.020583908939443e-06\n",
      " 1.0255151892124559e-06 1.0516562269913265e-06 2.2446711227530614e-06\n",
      " 3.83098449674435e-06 3.918137281289091e-06 4.1486905502097216e-06\n",
      " 4.250880465406226e-06 5.058786882727873e-06 5.154007340024691e-06\n",
      " 4.971159341948805e-06 6.453825335483998e-06 1.0468525942997076e-05\n",
      " 1.479693401051918e-05 1.852075911301654e-05 2.5223127522622235e-05\n",
      " 4.170695319771767e-05 8.371898729819804e-05 0.000167331745615229\n",
      " 0.00043598285992629826 0.0011611439986154437 0.0032764049246907234\n",
      " 0.005940636619925499 0.006020124536007643 -- -- -- -- --]\n",
      "[0.0 365.886474609375 709.8193359375 1030.27880859375 1326.09326171875\n",
      " 1596.5218505859375 1841.311279296875 2060.71484375 2255.473388671875\n",
      " 2426.758544921875 2576.08984375 2705.236083984375 2816.11181640625\n",
      " 2910.68359375 2990.889892578125 3058.580322265625 3115.4716796875\n",
      " 3163.123779296875 3202.92822265625 3236.10791015625 3263.723876953125\n",
      " 3286.687744140625 3305.77587890625 3321.64453125 3334.846435546875\n",
      " 3345.843017578125 3355.02001953125 3362.697021484375 3369.139404296875\n",
      " 3374.56640625 3379.1591796875 3383.06689453125 3386.412109375\n",
      " 3389.296142578125 3391.802001953125 3393.99755859375 3395.938720703125\n",
      " 3397.671875 3399.234130859375 3400.65673828125 3401.964599609375\n",
      " 3403.178955078125 3404.316162109375 3405.390625 3406.40185546875 -- -- --\n",
      " -- --]\n"
     ]
    }
   ],
   "source": [
    "print(dfb_kappa[:,100,250])\n",
    "print(kappa[:,100,250])\n",
    "print(dfbk[:,100,250])"
   ]
  },
  {
   "cell_type": "code",
   "execution_count": 67,
   "metadata": {
    "collapsed": false
   },
   "outputs": [
    {
     "data": {
      "image/png": "[encoded data removed]",
      "text/plain": [
       "<matplotlib.figure.Figure at 0x7f4ad7d23750>"
      ]
     },
     "metadata": {},
     "output_type": "display_data"
    }
   ],
   "source": [
    "plt.plot(dfb_kappa[:,100,250],dfbk[:,100,250],marker='*')\n",
    "plt.plot(kappa[:,100,250],H[:],marker='x')\n",
    "# plt.plot(dfb_kappa2[:,100,250],dfbk[:,100,250],marker='*')\n",
    "# plt.plot(dfb_kappa3[:,100,250],dfbk[:,100,250],marker='*')\n",
    "\n",
    "plt.title('Global Average volume weighted Nsquared 2011-01-05')\n",
    "plt.legend([ 'StLaurentJayne', 'Polzin','Control'],bbox_to_anchor=(1.05, 1), loc=2, borderaxespad=0.)\n",
    "plt.xscale('log')\n",
    "#ax.set_title('Turbulent Dissipation Rate',depth[40])\n",
    "plt.xlabel('Kappa')\n",
    "plt.ylabel('Depth')\n",
    "plt.grid()\n",
    "#plt.xlim([10**-5,10**-4])\n",
    "#plt.ylim(H[-1],H[0])"
   ]
  },
  {
   "cell_type": "code",
   "execution_count": 27,
   "metadata": {
    "collapsed": true
   },
   "outputs": [
    {
     "name": "stdout",
     "output_type": "stream",
     "text": [
      "0\n",
      "1\n",
      "2\n",
      "3\n",
      "4\n",
      "5\n",
      "6\n",
      "7\n",
      "8\n",
      "9\n",
      "10\n",
      "11\n",
      "12\n",
      "13\n",
      "14\n",
      "15\n",
      "16\n",
      "17\n",
      "18\n",
      "19\n",
      "20\n",
      "21\n",
      "22\n",
      "23\n",
      "24\n",
      "25\n",
      "26\n",
      "27\n",
      "28\n",
      "29\n",
      "30\n",
      "31\n",
      "32\n",
      "33\n",
      "34\n",
      "35\n",
      "36\n",
      "37\n",
      "38\n",
      "39\n",
      "40\n",
      "41\n",
      "42\n",
      "43\n",
      "44\n",
      "45\n",
      "46\n",
      "47\n",
      "48\n",
      "49\n",
      "0\n",
      "1\n",
      "2\n",
      "3\n",
      "4\n",
      "5\n",
      "6\n",
      "7\n",
      "8\n",
      "9\n",
      "10\n",
      "11\n",
      "12\n",
      "13\n",
      "14\n",
      "15\n",
      "16\n",
      "17\n",
      "18\n",
      "19\n",
      "20\n",
      "21\n",
      "22\n",
      "23\n",
      "24\n",
      "25\n",
      "26\n",
      "27\n",
      "28\n",
      "29\n",
      "30\n",
      "31\n",
      "32\n",
      "33\n",
      "34\n",
      "35\n",
      "36\n",
      "37\n",
      "38\n",
      "39\n",
      "40\n",
      "41\n",
      "42\n",
      "43\n",
      "44\n",
      "45\n",
      "46\n",
      "47\n",
      "48\n",
      "49\n",
      "0\n",
      "1\n",
      "2\n",
      "3\n",
      "4\n",
      "5\n",
      "6\n",
      "7\n",
      "8\n",
      "9\n",
      "10\n",
      "11\n",
      "12\n",
      "13\n",
      "14\n",
      "15\n",
      "16\n",
      "17\n",
      "18\n",
      "19\n",
      "20\n",
      "21\n",
      "22\n",
      "23\n",
      "24\n",
      "25\n",
      "26\n",
      "27\n",
      "28\n",
      "29\n",
      "30\n",
      "31\n",
      "32\n",
      "33\n",
      "34\n",
      "35\n",
      "36\n",
      "37\n",
      "38\n",
      "39\n",
      "40\n",
      "41\n",
      "42\n",
      "43\n",
      "44\n",
      "45\n",
      "46\n",
      "47\n",
      "48\n",
      "49\n"
     ]
    }
   ],
   "source": [
    "cnsq_glob = arith_mean(cnsquare)\n",
    "pnsq_glob = arith_mean(pnsquare)\n",
    "sjnsq_glob = arith_mean(sjnsquare)"
   ]
  },
  {
   "cell_type": "code",
   "execution_count": 20,
   "metadata": {
    "collapsed": false,
    "scrolled": true
   },
   "outputs": [
    {
     "name": "stdout",
     "output_type": "stream",
     "text": [
      "0\n",
      "1\n",
      "2\n",
      "3\n",
      "4\n",
      "5\n",
      "6\n",
      "7\n",
      "8\n",
      "9\n",
      "10\n",
      "11\n",
      "12\n",
      "13\n",
      "14\n",
      "15\n",
      "16\n",
      "17\n",
      "18\n",
      "19\n",
      "20\n",
      "21\n",
      "22\n",
      "23\n",
      "24\n",
      "25\n",
      "26\n",
      "27\n",
      "28\n",
      "29\n",
      "30\n",
      "31\n",
      "32\n",
      "33\n",
      "34\n",
      "35\n",
      "36\n",
      "37\n",
      "38\n",
      "39\n",
      "40\n",
      "41\n",
      "42\n",
      "43\n",
      "44\n",
      "45\n",
      "46\n",
      "47\n",
      "48\n",
      "49\n",
      "0\n",
      "1\n",
      "2\n",
      "3\n",
      "4\n",
      "5\n",
      "6\n",
      "7\n",
      "8\n",
      "9\n",
      "10\n",
      "11\n",
      "12\n",
      "13\n",
      "14\n",
      "15\n",
      "16\n",
      "17\n",
      "18\n",
      "19\n",
      "20\n",
      "21\n",
      "22\n",
      "23\n",
      "24\n",
      "25\n",
      "26\n",
      "27\n",
      "28\n",
      "29\n",
      "30\n",
      "31\n",
      "32\n",
      "33\n",
      "34\n",
      "35\n",
      "36\n",
      "37\n",
      "38\n",
      "39\n",
      "40\n",
      "41\n",
      "42\n",
      "43\n",
      "44\n",
      "45\n",
      "46\n",
      "47\n",
      "48\n",
      "49\n",
      "0\n",
      "1\n",
      "2\n",
      "3\n",
      "4\n",
      "5\n",
      "6\n",
      "7\n",
      "8\n",
      "9\n",
      "10\n",
      "11\n",
      "12\n",
      "13\n",
      "14\n",
      "15\n",
      "16\n",
      "17\n",
      "18\n",
      "19\n",
      "20\n",
      "21\n",
      "22\n",
      "23\n",
      "24\n",
      "25\n",
      "26\n",
      "27\n",
      "28\n",
      "29\n",
      "30\n",
      "31\n",
      "32\n",
      "33\n",
      "34\n",
      "35\n",
      "36\n",
      "37\n",
      "38\n",
      "39\n",
      "40\n",
      "41\n",
      "42\n",
      "43\n",
      "44\n",
      "45\n",
      "46\n",
      "47\n",
      "48\n",
      "49\n"
     ]
    }
   ],
   "source": [
    "ckap_glob = log_mean(ckappa,kappa=True)\n",
    "pkap_glob = log_mean(pkappa,kappa=True)\n",
    "sljkap_glob = log_mean(sjkappa,kappa=True)"
   ]
  },
  {
   "cell_type": "code",
   "execution_count": 12,
   "metadata": {
    "collapsed": false,
    "scrolled": true
   },
   "outputs": [],
   "source": [
    "pkaptidal_glob = log_mean(ktidalp)\n",
    "sljkaptidal_glob = log_mean(ktidalslj)"
   ]
  },
  {
   "cell_type": "code",
   "execution_count": 31,
   "metadata": {
    "collapsed": false,
    "scrolled": true
   },
   "outputs": [
    {
     "data": {
      "text/plain": [
       "(5500.0015, 0.0)"
      ]
     },
     "execution_count": 31,
     "metadata": {},
     "output_type": "execute_result"
    },
    {
     "data": {
      "image/png": "[encoded data removed]",
      "text/plain": [
       "<matplotlib.figure.Figure at 0x7fec9a56c190>"
      ]
     },
     "metadata": {},
     "output_type": "display_data"
    }
   ],
   "source": [
    "plt.plot(cnsq_glob[:-2]-sjnsq_glob[:-2],H[:-2],marker='*',linestyle='')\n",
    "plt.plot(cnsq_glob[:-2]-pnsq_glob[:-2],H[:-2],marker='x',linestyle='')\n",
    "plt.plot(sjnsq_glob[:-2]-pnsq_glob[:-2],H[:-2],marker='o',linestyle='')\n",
    "# plt.plot(kaptidal_glob,H)\n",
    "# plt.plot(kap2tidal_glob,H)\n",
    "plt.title('Global Average volume weighted Nsquared Differences 2011-01-05')\n",
    "plt.legend([ 'control-slj', 'control-Polzin','slj-polzin'],bbox_to_anchor=(1.05, 1), loc=2, borderaxespad=0.)\n",
    "ticks = [-10**-2, -10**-3, -10**-4, -10**-5,10**-6, 10**-5, 10**-4, 10**-3, 10**-2] \n",
    "plt.xscale('symlog',linthreshx=10**-8)\n",
    "#plt.xscale('log')\n",
    "ticks = ['-10e-2', '-10e-3', '-10e-4', '-10e-5',\n",
    "         '+/-10e-6', '10e-5', '10e-4', '10e-3', '10e-2'] \n",
    "plt.xlabel('N^2')\n",
    "plt.ylabel('Depth')\n",
    "plt.grid()\n",
    "#plt.xlim([-10**-4,10**-4])\n",
    "plt.ylim(H[-1],H[0])"
   ]
  },
  {
   "cell_type": "code",
   "execution_count": 32,
   "metadata": {
    "collapsed": false,
    "scrolled": true
   },
   "outputs": [
    {
     "data": {
      "text/plain": [
       "(5500.0015, 0.0)"
      ]
     },
     "execution_count": 32,
     "metadata": {},
     "output_type": "execute_result"
    },
    {
     "data": {
      "image/png": "[encoded data removed]",
      "text/plain": [
       "<matplotlib.figure.Figure at 0x7fec99f6b950>"
      ]
     },
     "metadata": {},
     "output_type": "display_data"
    }
   ],
   "source": [
    "plt.plot(sjnsq_glob[:-2],H[:-2],marker='*')\n",
    "plt.plot(pnsq_glob[:-2],H[:-2],marker='x')\n",
    "plt.plot(cnsq_glob[:-2],H[:-2])\n",
    "# plt.plot(kaptidal_glob,H)\n",
    "# plt.plot(kap2tidal_glob,H)\n",
    "plt.title('Global Average volume weighted Nsquared 2011-01-05')\n",
    "plt.legend([ 'StLaurentJayne', 'Polzin','Control'],bbox_to_anchor=(1.05, 1), loc=2, borderaxespad=0.)\n",
    "plt.xscale('log')\n",
    "#ax.set_title('Turbulent Dissipation Rate',depth[40])\n",
    "plt.xlabel('Kappa')\n",
    "plt.ylabel('Depth')\n",
    "plt.grid()\n",
    "#plt.xlim([10**-5,10**-4])\n",
    "plt.ylim(H[-1],H[0])"
   ]
  },
  {
   "cell_type": "code",
   "execution_count": 36,
   "metadata": {
    "collapsed": false,
    "scrolled": true
   },
   "outputs": [
    {
     "data": {
      "text/plain": [
       "(5500.0015, 0.0)"
      ]
     },
     "execution_count": 36,
     "metadata": {},
     "output_type": "execute_result"
    },
    {
     "data": {
      "image/png": "[encoded data removed]",
      "text/plain": [
       "<matplotlib.figure.Figure at 0x7fec99d51c50>"
      ]
     },
     "metadata": {},
     "output_type": "display_data"
    }
   ],
   "source": [
    "\n",
    "plt.plot(sljkap_glob[:-2],H[:-2])\n",
    "plt.plot(pkap_glob[:-2],H[:-2])\n",
    "plt.plot(ckap_glob[:-2],H[:-2])\n",
    "# plt.plot(kaptidal_glob,H)\n",
    "# plt.plot(kap2tidal_glob,H)\n",
    "plt.title('Global log-Average volume weighted Kappa 2011-01-05')\n",
    "plt.legend([ 'StLaurentJayne', 'Polzin','Control'],bbox_to_anchor=(1.05, 1), loc=2, borderaxespad=0.)\n",
    "plt.xscale('log')\n",
    "#ax.set_title('Turbulent Dissipation Rate',depth[40])\n",
    "plt.xlabel('Kappa')\n",
    "plt.ylabel('Depth')\n",
    "plt.grid()\n",
    "#plt.xlim([10**-5,10**-4])\n",
    "plt.ylim(H[-1],H[0])"
   ]
  },
  {
   "cell_type": "code",
   "execution_count": null,
   "metadata": {
    "collapsed": false,
    "scrolled": true
   },
   "outputs": [],
   "source": [
    "plt.plot(kap_glob)\n",
    "plt.plot(kap2_glob)                                                                                                                               \n",
    "plt.title('Global Average Kappa')\n",
    "plt.legend(['kappa EXH009', 'Kappa EXH005'],bbox_to_anchor=(1.05, 1), loc=2, borderaxespad=0.)\n",
    "plt.xscale('log')\n",
    "#ax.set_title('Turbulent Dissipation Rate',depth[40])\n",
    "plt.xlabel('Kappa')\n",
    "plt.ylabel('Depth')\n",
    "# plt.ylim(H[-1],H[0])"
   ]
  },
  {
   "cell_type": "code",
   "execution_count": null,
   "metadata": {
    "collapsed": false,
    "scrolled": true
   },
   "outputs": [],
   "source": [
    "E = np.ma.masked_where(E[:,:] ==0,E)\n",
    "fig, ax = plt.subplots(1, 1, figsize=(10, 10))\n",
    "cmap = plt.get_cmap('jet')\n",
    "cmap.set_bad('burlywood')\n",
    "minimum_log_level = 10**(-5)\n",
    "maximum_scale_level = 10**(-2)\n",
    "norm = colors.LogNorm(vmin=minimum_log_level,\n",
    "                                 vmax=maximum_scale_level)\n",
    "#clines = ax.contour(E,0.0,colors='white')\n",
    "mesh = ax.pcolormesh(E,norm=norm,cmap=cmap)\n",
    "\n",
    "cbar = fig.colorbar(mesh)\n",
    "                    #ticks=[10e-5,10e-4,10e-3,10e-2,10e-1,10e0,10e1,10e2,10e3],ax=ax,format='%.1e')\n",
    "cbar.set_label('E(x,y)')\n",
    "plt.tick_params(\n",
    "    axis='',          # changes apply to the x-axis\n",
    "    which='both',      # both major and minor ticks are affected\n",
    "    bottom='off',      # ticks along the bottom edge are off\n",
    "    top='off',         # ticks along the top edge are off\n",
    "    labelbottom='off')\n",
    "plt.axis((0, E.shape[1], 0, E.shape[0]))\n",
    "plt.axis('off')\n",
    "#clines = ax.contour(E,0.0,colors='white')\n",
    "ax.grid()\n",
    "\n"
   ]
  },
  {
   "cell_type": "code",
   "execution_count": null,
   "metadata": {
    "collapsed": false,
    "scrolled": true
   },
   "outputs": [],
   "source": [
    "#H, xedges, yedges = np.histogram2d(kappa1D2, kappa1D, bins=5)\n",
    "#np.logspace(10**(-6), 10**(-2), 5)\n",
    "kappa1DB = kappa1D*(10**6)\n",
    "kappa1D2B = kappa1D2*(10**6)"
   ]
  },
  {
   "cell_type": "code",
   "execution_count": null,
   "metadata": {
    "collapsed": false,
    "scrolled": true
   },
   "outputs": [],
   "source": [
    "m_arr_mask = ((~(ma.getmaskarray(kappa1D)))*1 + (~(ma.getmaskarray(kappa1D)))*1)//2\n",
    "print(mask[100000:100110])"
   ]
  },
  {
   "cell_type": "code",
   "execution_count": null,
   "metadata": {
    "collapsed": true,
    "scrolled": true
   },
   "outputs": [],
   "source": [
    "xedges = np.logspace(-5, 1, 10)\n",
    "yedges = np.logspace(-5, 1, 10)"
   ]
  },
  {
   "cell_type": "code",
   "execution_count": null,
   "metadata": {
    "collapsed": false,
    "scrolled": true
   },
   "outputs": [],
   "source": [
    "Histo = np.histogram2d(kappa1D2[m_arr_mask], kappa1D[m_arr_mask],\n",
    "                                       bins= (xedges,yedges))"
   ]
  },
  {
   "cell_type": "code",
   "execution_count": null,
   "metadata": {
    "collapsed": false,
    "scrolled": true
   },
   "outputs": [],
   "source": [
    "Histo"
   ]
  },
  {
   "cell_type": "code",
   "execution_count": null,
   "metadata": {
    "collapsed": false,
    "scrolled": true
   },
   "outputs": [],
   "source": [
    "H"
   ]
  },
  {
   "cell_type": "code",
   "execution_count": null,
   "metadata": {
    "collapsed": true,
    "scrolled": true
   },
   "outputs": [],
   "source": [
    "Xedges = [0.0, 0.000001, 0.0001, 0.001, 0.01]\n",
    "Yedges = [0.0, 0.000001, 0.0001, 0.001, 0.01]\n",
    "# x = np.random.normal(0,1, 1000)\n",
    "# y = np.random.normal(0,1, 1000)\n",
    "x = kappa1D\n",
    "y = kappa1D2\n",
    "H, xedges, yedges = np.histogram2d(y, x, bins=(Xedges, Yedges))"
   ]
  },
  {
   "cell_type": "code",
   "execution_count": null,
   "metadata": {
    "collapsed": false,
    "scrolled": true
   },
   "outputs": [],
   "source": [
    "H"
   ]
  },
  {
   "cell_type": "code",
   "execution_count": null,
   "metadata": {
    "collapsed": false,
    "scrolled": true
   },
   "outputs": [],
   "source": [
    "fig = plt.figure(figsize=(20, 20))\n",
    "ax = fig.add_subplot(132)\n",
    "# ax.set_title('pcolormesh: exact bin edges')\n",
    "# xedges = [10**(-6),10**(-5), 10**(-4),10**(-3),10**(-2)]\n",
    "# yedges = [10**(-6),10**(-5), 10**(-4),10**(-3),10**(-2)]\n",
    "X, Y = np.meshgrid(Xedges, Yedges)\n",
    "norm = colors.LogNorm(vmin=10**2,\n",
    "                                 vmax=10**7)\n",
    "\n",
    "mesh = ax.pcolormesh(X,Y,H,norm=norm,cmap='jet')\n",
    "cbar = fig.colorbar(mesh)\n",
    "#ax.axis((10**(-6),10**(-2) , 10**(-6), 10**(-2)))\n",
    "# ax.set_xscale(\"log\")\n",
    "# ax.set_yscale(\"log\")\n",
    "ax.set_aspect('equal')"
   ]
  },
  {
   "cell_type": "code",
   "execution_count": null,
   "metadata": {
    "collapsed": false,
    "scrolled": true
   },
   "outputs": [],
   "source": [
    "xedges = [0.0, 0.000001, 0.00001, 0.0001, 0.001,0.01]\n",
    "yedges = [0.0, 0.000001, 0.00001, 0.0001, 0.001,0.01]\n",
    "# x = np.random.normal(0,1, 1000)\n",
    "# y = np.random.normal(0,1, 1000)\n",
    "x = kappa1D\n",
    "y = kappa1D2\n",
    "\n",
    "plt.hist2d(y, x, bins=(xedges, yedges))\n",
    "plt.colorbar()\n",
    "plt.gca().set_xscale(\"log\")\n",
    "plt.show()\n"
   ]
  },
  {
   "cell_type": "code",
   "execution_count": null,
   "metadata": {
    "collapsed": false,
    "scrolled": true
   },
   "outputs": [],
   "source": [
    "import itertools as it\n",
    "X = kappa1D\n",
    "XBASE = 10\n",
    "YBASE = 10\n",
    "MIN_VALUE = kappa1D.min()\n",
    "MAX_VALUE = kappa1D.max()\n",
    "# Calculate the min and max powers:\n",
    "start_power = np.floor(np.log(MIN_VALUE) / np.log(XBASE))\n",
    "end_power = np.ceil(np.log(MAX_VALUE) / np.log(XBASE))\n",
    "# ...and number of whole integer powers in that range\n",
    "num_bins = (end_power - start_power) + 1\n",
    "\n",
    "#  Generated a range of delimiters in log space\n",
    "bins = np.logspace(start_power, end_power, num_bins, base=XBASE)\n",
    "\n",
    "#  Iteratively generate the the histogram in 1k chunks\n",
    "hist = np.zeros(len(bins) - 1)\n",
    "while True:\n",
    "\tchunk = list(it.islice(X, 1000))\n",
    "\tif len(chunk) == 0: break\n",
    "\t(tmp,_) = np.histogram(chunk, bins=bins)\n",
    "\thist += tmp\n",
    "\n",
    "# Slice all the empty bins of the end\n",
    "last_idx = max([i for i,h in enumerate(hist) if h])\n",
    "(hist, bins) = (hist[:last_idx+1], bins[:last_idx+2])\n",
    "\n",
    "#  Plot for great justice!\n",
    "fig = plt.figure()"
   ]
  },
  {
   "cell_type": "code",
   "execution_count": null,
   "metadata": {
    "collapsed": true,
    "scrolled": true
   },
   "outputs": [],
   "source": []
  }
 ],
 "metadata": {
  "kernelspec": {
   "display_name": "Python 2",
   "language": "python",
   "name": "python2"
  },
  "language_info": {
   "codemirror_mode": {
    "name": "ipython",
    "version": 2
   },
   "file_extension": ".py",
   "mimetype": "text/x-python",
   "name": "python",
   "nbconvert_exporter": "python",
   "pygments_lexer": "ipython2",
   "version": "2.7.11"
  }
 },
 "nbformat": 4,
 "nbformat_minor": 0
}
